{
  "nbformat": 4,
  "nbformat_minor": 0,
  "metadata": {
    "colab": {
      "name": "Artificial Neural Networks - Image classification deep learning",
      "provenance": [],
      "collapsed_sections": []
    },
    "kernelspec": {
      "name": "python3",
      "display_name": "Python 3"
    }
  },
  "cells": [
    {
      "cell_type": "markdown",
      "metadata": {
        "id": "Ourn4agRHoFD",
        "colab_type": "text"
      },
      "source": [
        "## Image classification with Neural Networks!\n",
        "\n",
        "In this project we will build a neural network that will be able to classify 10 types of images: Airplanes, Cars, Trucks, horses, cats, dogs, birgs, frogs, ships and deers."
      ]
    },
    {
      "cell_type": "code",
      "metadata": {
        "id": "Dp1mXHo0FGqd",
        "colab_type": "code",
        "colab": {}
      },
      "source": [
        "from numpy.random import seed\n",
        "# If you want to get the same numbers as me add this seed to tensorflow.\n",
        "seed(888) "
      ],
      "execution_count": 66,
      "outputs": []
    },
    {
      "cell_type": "code",
      "metadata": {
        "id": "YjM5V8GoIpgd",
        "colab_type": "code",
        "colab": {}
      },
      "source": [
        "import numpy as np\n",
        "import matplotlib.pyplot as plt\n",
        "import tensorflow as tf\n",
        "import keras\n",
        "import os\n",
        "import itertools\n",
        "\n",
        "from IPython.display import display \n",
        "from keras.models import Sequential\n",
        "from keras.layers import Dense, Activation, Dropout\n",
        "\n",
        "tf.random.set_seed(404)"
      ],
      "execution_count": 120,
      "outputs": []
    },
    {
      "cell_type": "code",
      "metadata": {
        "id": "7kYTla1_NlE4",
        "colab_type": "code",
        "colab": {}
      },
      "source": [
        "# Constants\n",
        "\n",
        "LABEL_NAMES = ['Plane','Car','Bird','Cat','Deer','Dog','Frog','Horse','Ship','Truck'] # Label from our dataset ordered\n",
        "IMAGE_WIDTH = 32\n",
        "IMAGE_HEIGHT = 32\n",
        "IMAGE_PIXELS = IMAGE_WIDTH * IMAGE_HEIGHT\n",
        "COLOUR_CHANNELS = 3\n",
        "TOTAL_INPUTS = IMAGE_PIXELS * COLOUR_CHANNELS\n",
        "\n",
        "LOG_DIR = 'tensorboard_cifar_logs/'\n",
        "\n",
        "VALIDATION_SIZE = 10000\n",
        "SMALL_TRAIN_SIZE = 1000"
      ],
      "execution_count": 68,
      "outputs": []
    },
    {
      "cell_type": "markdown",
      "metadata": {
        "id": "4rAmdsoKLDAJ",
        "colab_type": "text"
      },
      "source": [
        "### Step 1. Gathering our data\n",
        "\n",
        "Keras library has a huge amount of data that we can use in order to train our own neural networks. In this project we will use the cifar10, however there are a lot of other free datasets:\n",
        "\n",
        "https://keras.io/api/datasets/\n",
        "\n"
      ]
    },
    {
      "cell_type": "code",
      "metadata": {
        "id": "lUOfMOLbJbxi",
        "colab_type": "code",
        "colab": {}
      },
      "source": [
        "# Gathering our data - CIFAR 10 Dataset\n",
        "from keras.datasets import cifar10\n",
        "\n",
        "(X_train_all, y_train_all) , (X_test_all, y_test_all) = cifar10.load_data() # Returns 2 tuples >> One for training data and another one for test data"
      ],
      "execution_count": 69,
      "outputs": []
    },
    {
      "cell_type": "markdown",
      "metadata": {
        "id": "tovUIbJeLaLd",
        "colab_type": "text"
      },
      "source": [
        "### Step 2. Exploring our data\n",
        "\n",
        "Now let's take a look at our loaded data an try to understand it, and create some assumptions. It's a good step to understand the shape of our datasets."
      ]
    },
    {
      "cell_type": "code",
      "metadata": {
        "id": "B47gdpNWK06o",
        "colab_type": "code",
        "colab": {
          "base_uri": "https://localhost:8080/",
          "height": 850
        },
        "outputId": "768c1bd6-b9f0-45a8-e808-b9f8732c241e"
      },
      "source": [
        "from keras.preprocessing.image import array_to_img\n",
        "\n",
        "X_train_all[0] #type >> numpy array"
      ],
      "execution_count": 70,
      "outputs": [
        {
          "output_type": "execute_result",
          "data": {
            "text/plain": [
              "array([[[ 59,  62,  63],\n",
              "        [ 43,  46,  45],\n",
              "        [ 50,  48,  43],\n",
              "        ...,\n",
              "        [158, 132, 108],\n",
              "        [152, 125, 102],\n",
              "        [148, 124, 103]],\n",
              "\n",
              "       [[ 16,  20,  20],\n",
              "        [  0,   0,   0],\n",
              "        [ 18,   8,   0],\n",
              "        ...,\n",
              "        [123,  88,  55],\n",
              "        [119,  83,  50],\n",
              "        [122,  87,  57]],\n",
              "\n",
              "       [[ 25,  24,  21],\n",
              "        [ 16,   7,   0],\n",
              "        [ 49,  27,   8],\n",
              "        ...,\n",
              "        [118,  84,  50],\n",
              "        [120,  84,  50],\n",
              "        [109,  73,  42]],\n",
              "\n",
              "       ...,\n",
              "\n",
              "       [[208, 170,  96],\n",
              "        [201, 153,  34],\n",
              "        [198, 161,  26],\n",
              "        ...,\n",
              "        [160, 133,  70],\n",
              "        [ 56,  31,   7],\n",
              "        [ 53,  34,  20]],\n",
              "\n",
              "       [[180, 139,  96],\n",
              "        [173, 123,  42],\n",
              "        [186, 144,  30],\n",
              "        ...,\n",
              "        [184, 148,  94],\n",
              "        [ 97,  62,  34],\n",
              "        [ 83,  53,  34]],\n",
              "\n",
              "       [[177, 144, 116],\n",
              "        [168, 129,  94],\n",
              "        [179, 142,  87],\n",
              "        ...,\n",
              "        [216, 184, 140],\n",
              "        [151, 118,  84],\n",
              "        [123,  92,  72]]], dtype=uint8)"
            ]
          },
          "metadata": {
            "tags": []
          },
          "execution_count": 70
        }
      ]
    },
    {
      "cell_type": "code",
      "metadata": {
        "id": "g5Mlc-7OL-NP",
        "colab_type": "code",
        "colab": {
          "base_uri": "https://localhost:8080/",
          "height": 49
        },
        "outputId": "498256b1-1f37-465b-e1c2-f1ae7389a441"
      },
      "source": [
        "# Checking the image by converting the numbers to an image (array_to_img \n",
        "\n",
        "picture = array_to_img(X_train_all[7]) # Checking our references on web you will see that the index 7 correspond to horses\n",
        "display(picture)"
      ],
      "execution_count": 71,
      "outputs": [
        {
          "output_type": "display_data",
          "data": {
            "image/png": "[encoded data removed]",
            "text/plain": [
              "<PIL.Image.Image image mode=RGB size=32x32 at 0x7F1F8CF85B00>"
            ]
          },
          "metadata": {
            "tags": []
          }
        }
      ]
    },
    {
      "cell_type": "code",
      "metadata": {
        "id": "g8CrvXhnMIaL",
        "colab_type": "code",
        "colab": {
          "base_uri": "https://localhost:8080/",
          "height": 103
        },
        "outputId": "f82d4630-cf21-4c1e-b223-74beab5c6d39"
      },
      "source": [
        "# Checking the shape from our data and what contains in the columns \n",
        "print('y train shape:', y_train_all.shape) # 50.000 train labels\n",
        "print('y test shape:', y_test_all.shape) # 10.000 test labels\n",
        "print('X train shape:', X_train_all.shape) # 50.000 train features, 32x32, with 3 rgb colors\n",
        "print('X test shape:', X_test_all.shape) # 10.000 teste features\n",
        "\n",
        "LABEL_NAMES[y_train_all[7][0]] # Getting the name by using our y_train_all"
      ],
      "execution_count": 72,
      "outputs": [
        {
          "output_type": "stream",
          "text": [
            "y train shape: (50000, 1)\n",
            "y test shape: (10000, 1)\n",
            "X train shape: (50000, 32, 32, 3)\n",
            "X test shape: (10000, 32, 32, 3)\n"
          ],
          "name": "stdout"
        },
        {
          "output_type": "execute_result",
          "data": {
            "application/vnd.google.colaboratory.intrinsic": {
              "type": "string"
            },
            "text/plain": [
              "'Horse'"
            ]
          },
          "metadata": {
            "tags": []
          },
          "execution_count": 72
        }
      ]
    },
    {
      "cell_type": "code",
      "metadata": {
        "id": "Z7vgMIQ1NKhs",
        "colab_type": "code",
        "colab": {
          "base_uri": "https://localhost:8080/",
          "height": 285
        },
        "outputId": "a41dd8e4-84d8-44bb-fef1-d5f36979b15d"
      },
      "source": [
        "plt.imshow(X_train_all[4])\n",
        "plt.xlabel(LABEL_NAMES[y_train_all[4][0]], fontsize=15)\n",
        "plt.show()"
      ],
      "execution_count": 73,
      "outputs": [
        {
          "output_type": "display_data",
          "data": {
            "image/png": "[encoded data removed]",
            "text/plain": [
              "<Figure size 432x288 with 1 Axes>"
            ]
          },
          "metadata": {
            "tags": [],
            "needs_background": "light"
          }
        }
      ]
    },
    {
      "cell_type": "code",
      "metadata": {
        "id": "kLBzccPDOP6o",
        "colab_type": "code",
        "colab": {
          "base_uri": "https://localhost:8080/",
          "height": 120
        },
        "outputId": "5b189545-020d-4e97-acc3-98b6f1ed4d53"
      },
      "source": [
        "plt.figure(figsize=(15, 5))\n",
        "\n",
        "for i in range(10):\n",
        "\n",
        "  plt.subplot(1, 10, i+1) # Subplot cannot start with zero\n",
        "  plt.yticks([]) # Blank tick marks\n",
        "  plt.xticks([])\n",
        "  plt.xlabel(LABEL_NAMES[y_train_all[i][0]], fontsize=14)\n",
        "  plt.imshow(X_train_all[i])\n"
      ],
      "execution_count": 74,
      "outputs": [
        {
          "output_type": "display_data",
          "data": {
            "image/png": "[encoded data removed]",
            "text/plain": [
              "<Figure size 1080x360 with 10 Axes>"
            ]
          },
          "metadata": {
            "tags": []
          }
        }
      ]
    },
    {
      "cell_type": "code",
      "metadata": {
        "id": "0827iOeaPiTr",
        "colab_type": "code",
        "colab": {
          "base_uri": "https://localhost:8080/",
          "height": 34
        },
        "outputId": "1425fd44-5daf-4fbf-a99e-0c89c4c5cfae"
      },
      "source": [
        "nr_images, x, y, c = X_train_all.shape\n",
        "print(f'images = {nr_images} \\t | width = {x} \\t | height = {y} \\t | channels = {c}')"
      ],
      "execution_count": 75,
      "outputs": [
        {
          "output_type": "stream",
          "text": [
            "images = 50000 \t | width = 32 \t | height = 32 \t | channels = 3\n"
          ],
          "name": "stdout"
        }
      ]
    },
    {
      "cell_type": "markdown",
      "metadata": {
        "id": "xGXI1JpqRNUW",
        "colab_type": "text"
      },
      "source": [
        "### Step 3. Preprocessing our data\n",
        "\n",
        "This is one of the most important steps from setting up a neural network to solve our problem. \n",
        "\n",
        "* **Feature Scaling**: We will need to scale our image because, by checking how our learning rate works (it is a small number), reducing the size of our images from 0 - 255 to 0 - 1 will make our model converges more efficiently. For this reason we will divide all datasets to 255.0.\n",
        "\n",
        "* **Flatten our dataset**: Having 4 dimensions is ok, but it is easier if we transform into a single row of numbers.\n",
        "\n",
        "* **Validation Dataset**: Creating a validation dataset will help us to boost and tune our model by using an extra amount of data for checking our model and prevent overfitting. In order to create this new dataset, you just need to split up the Test dataset with the same % of the size of the Testing dataset. Example: 60% Training, 20% Validation, 20% Testing.\n"
      ]
    },
    {
      "cell_type": "code",
      "metadata": {
        "id": "Q29_p5-dQxZ2",
        "colab_type": "code",
        "colab": {
          "base_uri": "https://localhost:8080/",
          "height": 51
        },
        "outputId": "dc9da932-ae74-447d-8af9-7e3d117bf33b"
      },
      "source": [
        "# Did you know? if we go three levels x_train_all[0][0][0] we are acheiving a specific pixel?\n",
        "# 1st level >> type of image\n",
        "# 2nd level >> the proper image\n",
        "# 3rd level >> the pixel!\n",
        "# 4th level >> the RGB!!!!!\n",
        "\n",
        "# 1. Scaling our datasets\n",
        "X_train_all, X_test_all = X_train_all / 255.0 , X_test_all / 255.0\n",
        "\n",
        "# 2. Flatten our datasets\n",
        "X_train_all = X_train_all.reshape(X_train_all.shape[0], TOTAL_INPUTS)  # Parameters >> lenght of the array is the index 0 or use len() + Size of the image\n",
        "X_test_all = X_test_all.reshape(X_test_all.shape[0], TOTAL_INPUTS)\n",
        "\n",
        "# After reshaping\n",
        "print(X_train_all.shape)\n",
        "print(X_test_all.shape)\n"
      ],
      "execution_count": 76,
      "outputs": [
        {
          "output_type": "stream",
          "text": [
            "(50000, 3072)\n",
            "(10000, 3072)\n"
          ],
          "name": "stdout"
        }
      ]
    },
    {
      "cell_type": "code",
      "metadata": {
        "id": "p_JeGI9aTF8M",
        "colab_type": "code",
        "colab": {}
      },
      "source": [
        "# 3. Creating Validation dataset\n",
        "X_validation = X_train_all[:VALIDATION_SIZE]\n",
        "y_validation = y_train_all[:VALIDATION_SIZE]"
      ],
      "execution_count": 91,
      "outputs": []
    },
    {
      "cell_type": "code",
      "metadata": {
        "id": "_ZcvEBnNV1GR",
        "colab_type": "code",
        "colab": {}
      },
      "source": [
        "# Removing our samples allocated for validation from our train datasets!\n",
        "x_train = X_train_all[VALIDATION_SIZE:]\n",
        "y_train = y_train_all[VALIDATION_SIZE:]"
      ],
      "execution_count": 78,
      "outputs": []
    },
    {
      "cell_type": "code",
      "metadata": {
        "id": "s32WuyfNWkL3",
        "colab_type": "code",
        "colab": {}
      },
      "source": [
        "# (Optional but real world uses): Simulation dataset >> a small dataset for running quickly before use lots of data\n",
        "\n",
        "x_train_xs = x_train[:SMALL_TRAIN_SIZE]\n",
        "y_train_ys = y_train[:SMALL_TRAIN_SIZE]"
      ],
      "execution_count": 79,
      "outputs": []
    },
    {
      "cell_type": "markdown",
      "metadata": {
        "id": "iTgQ2jUWcWoP",
        "colab_type": "text"
      },
      "source": [
        "### Step 4. Building our model\n",
        "\n",
        "1. **Define your model:** Set up the structure of the model.\n",
        "\n",
        "2. **Compile the model:** Set tup the tensorflow with some key informations: How measure the loss, how to measure the weights, how to optmize etc.\n",
        "\n",
        "3. **Training the model**: Tensorflow will crunchu into the data and fit our neural network."
      ]
    },
    {
      "cell_type": "markdown",
      "metadata": {
        "id": "j2Gb4cmSebRL",
        "colab_type": "text"
      },
      "source": [
        "### Extra topic: Going deeper with Activation Functions, Losses, and Optimizers & Biases\n",
        "\n",
        "ADD IMAGES HERE LATER\n",
        "\n",
        "* **Activation Functions:** The activation functions will be used to adjust the weights in our hidden layers. They are composed with a variation between a negative number to a positive one. Each problem to be solved by our neural network, requires a specific activation function. Softmax (used commonly for probabilistic outputs like 80% cat 20% dog), Sigmoid, and ReLU are the most common used nowadays.\n",
        "\n",
        "Check the Keras API documentation for further details:\n",
        "\n",
        "https://keras.io/api/layers/activations/\n",
        "\n",
        "* **Loss Functions:** We have multiple types of functions to calculate our loss. Mean Squared Error, Stochastic Gradient Descent, Categorical Cross Entropy, etc. We are dealing with a classification problem with probabilities, for this reason the Categorical Cross Entropy is the best for us, because its formula is the sum of the costs x predicted probabilities.\n",
        "\n",
        "* **Optimizers:** The optimizers will improve the efficiency the calculation of our loss, and calculation the weights and biases.\n",
        "\n",
        "\n",
        "* **Biases:** Besides our weights, our neural network has biases that have a special function in our learning action. While weights adjust the shape of the activation function(flatter or steeper), biases adjust the axis from activation function, moving from the starting point -6 to -3 for example.\n"
      ]
    },
    {
      "cell_type": "code",
      "metadata": {
        "id": "IqDAM-bqW0pm",
        "colab_type": "code",
        "colab": {}
      },
      "source": [
        "# Setting up our first Artificial Neural Network\n",
        "\n",
        "# Sequential indicates straightforwardly that our models will follow a sequence. Input > Hidden > Output\n",
        "# 1st Dense: Input layer (3072 inputs) + Hidden layer (128 neurons) >> The amount 3072 is the shape of our images 32 x 32 x 3 rgb. ReLU as activation function.\n",
        "# 2nd Dense: Hidden layer (64 neurons). ReLU rectifier activation function.\n",
        "# 3rd Dense: Hidden layer (16 neurons). ReLU rectifier activation function.\n",
        "# 4th Dense: Output layer. Using softmax as activation functions given the probabilistic nature of our problems. \n",
        "\n",
        "model_1 = Sequential([\n",
        "  Dense(units=128, input_dim=TOTAL_INPUTS, activation='relu', name='m1_hidden1'), # 1st hidden layer + Input layer / 3072 is given the shape of our images 32 x 32 x 3\n",
        "  Dense(units=64, activation='relu', name='m2_hidden2'), # 2nd hidden layer. You don't need to specify the input_dim! Keras take the previous\n",
        "  Dense(16, activation='relu', name='m3_hidden3'), # 3rd hidden layer\n",
        "  Dense(10, activation='softmax', name='output') # Output layer / softmax for probabilities\n",
        "])\n",
        "\n",
        "# Compiling our model\n",
        "model_1.compile(optimizer='adam',\n",
        "                loss='sparse_categorical_crossentropy',\n",
        "                metrics=['accuracy'])"
      ],
      "execution_count": 80,
      "outputs": []
    },
    {
      "cell_type": "code",
      "metadata": {
        "id": "gaq7wTOGhdTg",
        "colab_type": "code",
        "colab": {
          "base_uri": "https://localhost:8080/",
          "height": 289
        },
        "outputId": "8b8d1d9f-5957-4376-aabe-94f62d004175"
      },
      "source": [
        "# Checking the architecture from our Neural Network\n",
        "\n",
        "model_1.summary()\n",
        "\n",
        "# Params are all connections between nodes (weights) +  biases\n",
        "# For example in the 1st Dense layer: 32 * 32 * 3 (our inputs) * 128 (connections with hidden layer) + 128 (biases) = 393344\n",
        "# 2nd layer: 128 (inputs) * 64 (neurons) + 64 (biases)\n",
        "# 3rd layer: 64 * 16 + 16 \n",
        "# 4th layer: 16 * 10 + 10"
      ],
      "execution_count": 81,
      "outputs": [
        {
          "output_type": "stream",
          "text": [
            "Model: \"sequential_13\"\n",
            "_________________________________________________________________\n",
            "Layer (type)                 Output Shape              Param #   \n",
            "=================================================================\n",
            "m1_hidden1 (Dense)           (None, 128)               393344    \n",
            "_________________________________________________________________\n",
            "m2_hidden2 (Dense)           (None, 64)                8256      \n",
            "_________________________________________________________________\n",
            "m3_hidden3 (Dense)           (None, 16)                1040      \n",
            "_________________________________________________________________\n",
            "output (Dense)               (None, 10)                170       \n",
            "=================================================================\n",
            "Total params: 402,810\n",
            "Trainable params: 402,810\n",
            "Non-trainable params: 0\n",
            "_________________________________________________________________\n"
          ],
          "name": "stdout"
        }
      ]
    },
    {
      "cell_type": "code",
      "metadata": {
        "id": "OCXEo9cQEl-g",
        "colab_type": "code",
        "colab": {}
      },
      "source": [
        "# Model number 2: Adding Regularization techniques to compare performance against model_1\n",
        "\n",
        "# Adding: Dropout technique\n",
        "\n",
        "model_2 = Sequential()\n",
        "model_2.add(Dropout(0.2, seed=42, input_shape=(TOTAL_INPUTS,))) # Add dropout to our model with the input shape\n",
        "model_2.add(Dense(128, activation='relu', name='m2_hidden1'))\n",
        "model_2.add(Dense(64, activation='relu', name='m2_hidden2'))\n",
        "model_2.add(Dense(16, activation='relu', name='m2_hidden3'))\n",
        "model_2.add(Dense(10, activation='softmax', name='m2_output'))\n",
        "\n",
        "# Compiling our model\n",
        "model_2.compile(optimizer='adam',\n",
        "                loss='sparse_categorical_crossentropy',\n",
        "                metrics=['accuracy'])"
      ],
      "execution_count": 82,
      "outputs": []
    },
    {
      "cell_type": "code",
      "metadata": {
        "id": "qvpkR5syHLpr",
        "colab_type": "code",
        "colab": {}
      },
      "source": [
        "# Model number 3: Adding Regularization techniques to compare performance against model_1 and model_2\n",
        "\n",
        "# Adding: Dropout technique + 2nd Dropout at hidden layer\n",
        "\n",
        "model_3 = Sequential()\n",
        "model_3.add(Dropout(0.2, seed=42, input_shape=(TOTAL_INPUTS,))) # Add dropout to our model with the input shape\n",
        "model_3.add(Dense(128, activation='relu', name='m3_hidden1'))\n",
        "model_3.add(Dropout(0.25, seed=42)) # Add dropout to our model in the hidden shape. We don't need to specify further input_shape\n",
        "model_3.add(Dense(64, activation='relu', name='m3_hidden2'))\n",
        "model_3.add(Dense(16, activation='relu', name='m3_hidden3'))\n",
        "model_3.add(Dense(10, activation='softmax', name='m3_output'))\n",
        "\n",
        "# Compiling our model\n",
        "model_3.compile(optimizer='adam',\n",
        "                loss='sparse_categorical_crossentropy',\n",
        "                metrics=['accuracy'])"
      ],
      "execution_count": 83,
      "outputs": []
    },
    {
      "cell_type": "markdown",
      "metadata": {
        "id": "qgVkgq4ZyWVK",
        "colab_type": "text"
      },
      "source": [
        "### Extra topic: Setting up our tensorboard\n",
        "\n",
        "Tensorboard is an excellent strategy to collect the analytics from our model and understand in-depth its performance"
      ]
    },
    {
      "cell_type": "code",
      "metadata": {
        "id": "KbuUYFN2hfhp",
        "colab_type": "code",
        "colab": {}
      },
      "source": [
        "from keras.callbacks import TensorBoard\n",
        "from time import strftime \n",
        "\n",
        "def get_tensorboard(model_name):\n",
        "  folder_name = f'{model_name} at {strftime(\"%H %M\")}'\n",
        "\n",
        "  # Skip this part for Google Colab\n",
        "  dir_paths = os.path.join(LOG_DIR, folder_name)\n",
        "\n",
        "  try: \n",
        "    \n",
        "    os.makedirs(dir_paths) # create directory\n",
        "\n",
        "  except OSError as err: \n",
        "    print(err)\n",
        "\n",
        "  else:\n",
        "    print('Directory created successfully')\n",
        "\n",
        "  # Runs tensorboard\n",
        "  return TensorBoard(log_dir= dir_paths)"
      ],
      "execution_count": 84,
      "outputs": []
    },
    {
      "cell_type": "markdown",
      "metadata": {
        "id": "GTggqczw57IF",
        "colab_type": "text"
      },
      "source": [
        "### Step 5. Fitting our model\n",
        "\n",
        "Let's start tunning and fitting our model for a better performance!"
      ]
    },
    {
      "cell_type": "markdown",
      "metadata": {
        "id": "zFHQW7T6AgZX",
        "colab_type": "text"
      },
      "source": [
        "### Overfitting and Regularization\n",
        "\n",
        "**Overfitting**: Happens when your model learns the train data too well. It's like an addiction! As consequence your model will not generalize well leading to bad predictions with unseen data (lack of generalization). \n",
        "\n",
        "**How do we diagnose this problem?** Looking the performance at validation test set. If the validation is not decreasing or rising from a decreasing slope. Another way is to check that your model is doing well but when using real data the predictions are dummy.\n",
        "\n",
        "**How to fix?:** Regularization! \n",
        "\n",
        "\n",
        "**Regularization**: This technique is one of the a great variety of techniques. It applies a 'penalty' or constraint on complexity. Remember Simple is better then Complex! By checking your tensorboard or data provided how well your model is training you can add some breakpoints. \n",
        "\n",
        "  1. Early Stop technique: This technique is commonly used when you reach a minimum loss at the validation step, however suddenly the loss start rising up again.\n",
        "\n",
        "  2. Dropout: This technique ignore ramdomly some neurons during the training steps. During each training step in the input or hidden layer will not be considered"
      ]
    },
    {
      "cell_type": "code",
      "metadata": {
        "id": "ukbazOTP1Dr2",
        "colab_type": "code",
        "colab": {
          "base_uri": "https://localhost:8080/",
          "height": 1000
        },
        "outputId": "7694856d-ae6c-4f9a-cac2-5fbedc49b2e3"
      },
      "source": [
        "# Model 1 - First Version\n",
        "samples_per_batch = 1000 # will catch 1000 examples each epoch\n",
        "nr_epochs = 150\n",
        "\n",
        "model_1.fit(x= x_train_xs, \n",
        "            y= y_train_ys, \n",
        "            batch_size= samples_per_batch, \n",
        "            epochs=nr_epochs,\n",
        "            validation_data=(X_validation, y_validation))\n",
        "\n",
        "# batch_size = divide our training data into small amounts of examples. Try different batch sizes \n",
        "# iterations (epochs) = nr training samples / batch size\n",
        "\n",
        "# IMPORTANT: Note that our validation loss start plummeting and suddenly rising up again. This is may be a signal of overfitting\n",
        "\n",
        "# Using tensorboard \n",
        "# model_1.fit(x= x_train_xs, y= y_train_ys, callbacks=[get_tensorboard('Model 1')])\n",
        "# Go to the path created\n",
        "# go to anaconda prompt and them tensorboard --lodgir= C:\\....."
      ],
      "execution_count": 85,
      "outputs": [
        {
          "output_type": "stream",
          "text": [
            "Train on 1000 samples, validate on 10000 samples\n",
            "Epoch 1/150\n",
            "1000/1000 [==============================] - 1s 548us/step - loss: 2.3105 - accuracy: 0.1210 - val_loss: 2.6823 - val_accuracy: 0.1116\n",
            "Epoch 2/150\n",
            "1000/1000 [==============================] - 0s 313us/step - loss: 2.6636 - accuracy: 0.1100 - val_loss: 2.5894 - val_accuracy: 0.1136\n",
            "Epoch 3/150\n",
            "1000/1000 [==============================] - 0s 321us/step - loss: 2.5457 - accuracy: 0.1250 - val_loss: 2.3817 - val_accuracy: 0.1028\n",
            "Epoch 4/150\n",
            "1000/1000 [==============================] - 0s 305us/step - loss: 2.3486 - accuracy: 0.1030 - val_loss: 2.3655 - val_accuracy: 0.1004\n",
            "Epoch 5/150\n",
            "1000/1000 [==============================] - 0s 305us/step - loss: 2.3295 - accuracy: 0.1010 - val_loss: 2.3257 - val_accuracy: 0.1485\n",
            "Epoch 6/150\n",
            "1000/1000 [==============================] - 0s 324us/step - loss: 2.3006 - accuracy: 0.1410 - val_loss: 2.3243 - val_accuracy: 0.0959\n",
            "Epoch 7/150\n",
            "1000/1000 [==============================] - 0s 304us/step - loss: 2.3041 - accuracy: 0.1070 - val_loss: 2.3129 - val_accuracy: 0.1271\n",
            "Epoch 8/150\n",
            "1000/1000 [==============================] - 0s 311us/step - loss: 2.2827 - accuracy: 0.1470 - val_loss: 2.3030 - val_accuracy: 0.1523\n",
            "Epoch 9/150\n",
            "1000/1000 [==============================] - 0s 319us/step - loss: 2.2676 - accuracy: 0.1860 - val_loss: 2.2995 - val_accuracy: 0.1602\n",
            "Epoch 10/150\n",
            "1000/1000 [==============================] - 0s 315us/step - loss: 2.2648 - accuracy: 0.1820 - val_loss: 2.2967 - val_accuracy: 0.1647\n",
            "Epoch 11/150\n",
            "1000/1000 [==============================] - 0s 309us/step - loss: 2.2632 - accuracy: 0.1910 - val_loss: 2.2888 - val_accuracy: 0.1566\n",
            "Epoch 12/150\n",
            "1000/1000 [==============================] - 0s 307us/step - loss: 2.2547 - accuracy: 0.1800 - val_loss: 2.2827 - val_accuracy: 0.1532\n",
            "Epoch 13/150\n",
            "1000/1000 [==============================] - 0s 323us/step - loss: 2.2494 - accuracy: 0.1750 - val_loss: 2.2746 - val_accuracy: 0.1514\n",
            "Epoch 14/150\n",
            "1000/1000 [==============================] - 0s 330us/step - loss: 2.2415 - accuracy: 0.1730 - val_loss: 2.2723 - val_accuracy: 0.1676\n",
            "Epoch 15/150\n",
            "1000/1000 [==============================] - 0s 308us/step - loss: 2.2364 - accuracy: 0.1940 - val_loss: 2.2734 - val_accuracy: 0.1798\n",
            "Epoch 16/150\n",
            "1000/1000 [==============================] - 0s 315us/step - loss: 2.2332 - accuracy: 0.2040 - val_loss: 2.2695 - val_accuracy: 0.1793\n",
            "Epoch 17/150\n",
            "1000/1000 [==============================] - 0s 308us/step - loss: 2.2260 - accuracy: 0.2040 - val_loss: 2.2636 - val_accuracy: 0.1710\n",
            "Epoch 18/150\n",
            "1000/1000 [==============================] - 0s 310us/step - loss: 2.2192 - accuracy: 0.1950 - val_loss: 2.2589 - val_accuracy: 0.1625\n",
            "Epoch 19/150\n",
            "1000/1000 [==============================] - 0s 313us/step - loss: 2.2148 - accuracy: 0.1850 - val_loss: 2.2560 - val_accuracy: 0.1613\n",
            "Epoch 20/150\n",
            "1000/1000 [==============================] - 0s 311us/step - loss: 2.2095 - accuracy: 0.1840 - val_loss: 2.2565 - val_accuracy: 0.1668\n",
            "Epoch 21/150\n",
            "1000/1000 [==============================] - 0s 303us/step - loss: 2.2040 - accuracy: 0.1900 - val_loss: 2.2581 - val_accuracy: 0.1734\n",
            "Epoch 22/150\n",
            "1000/1000 [==============================] - 0s 317us/step - loss: 2.2003 - accuracy: 0.1950 - val_loss: 2.2553 - val_accuracy: 0.1731\n",
            "Epoch 23/150\n",
            "1000/1000 [==============================] - 0s 304us/step - loss: 2.1950 - accuracy: 0.1960 - val_loss: 2.2502 - val_accuracy: 0.1744\n",
            "Epoch 24/150\n",
            "1000/1000 [==============================] - 0s 307us/step - loss: 2.1900 - accuracy: 0.1980 - val_loss: 2.2472 - val_accuracy: 0.1754\n",
            "Epoch 25/150\n",
            "1000/1000 [==============================] - 0s 309us/step - loss: 2.1862 - accuracy: 0.1990 - val_loss: 2.2451 - val_accuracy: 0.1777\n",
            "Epoch 26/150\n",
            "1000/1000 [==============================] - 0s 321us/step - loss: 2.1813 - accuracy: 0.2060 - val_loss: 2.2429 - val_accuracy: 0.1790\n",
            "Epoch 27/150\n",
            "1000/1000 [==============================] - 0s 302us/step - loss: 2.1757 - accuracy: 0.2130 - val_loss: 2.2397 - val_accuracy: 0.1778\n",
            "Epoch 28/150\n",
            "1000/1000 [==============================] - 0s 304us/step - loss: 2.1705 - accuracy: 0.2150 - val_loss: 2.2354 - val_accuracy: 0.1765\n",
            "Epoch 29/150\n",
            "1000/1000 [==============================] - 0s 312us/step - loss: 2.1654 - accuracy: 0.2120 - val_loss: 2.2325 - val_accuracy: 0.1758\n",
            "Epoch 30/150\n",
            "1000/1000 [==============================] - 0s 309us/step - loss: 2.1608 - accuracy: 0.2160 - val_loss: 2.2296 - val_accuracy: 0.1751\n",
            "Epoch 31/150\n",
            "1000/1000 [==============================] - 0s 300us/step - loss: 2.1562 - accuracy: 0.2110 - val_loss: 2.2275 - val_accuracy: 0.1768\n",
            "Epoch 32/150\n",
            "1000/1000 [==============================] - 0s 315us/step - loss: 2.1516 - accuracy: 0.2160 - val_loss: 2.2264 - val_accuracy: 0.1782\n",
            "Epoch 33/150\n",
            "1000/1000 [==============================] - 0s 309us/step - loss: 2.1468 - accuracy: 0.2170 - val_loss: 2.2255 - val_accuracy: 0.1814\n",
            "Epoch 34/150\n",
            "1000/1000 [==============================] - 0s 316us/step - loss: 2.1420 - accuracy: 0.2210 - val_loss: 2.2222 - val_accuracy: 0.1826\n",
            "Epoch 35/150\n",
            "1000/1000 [==============================] - 0s 318us/step - loss: 2.1374 - accuracy: 0.2220 - val_loss: 2.2189 - val_accuracy: 0.1824\n",
            "Epoch 36/150\n",
            "1000/1000 [==============================] - 0s 310us/step - loss: 2.1330 - accuracy: 0.2220 - val_loss: 2.2172 - val_accuracy: 0.1861\n",
            "Epoch 37/150\n",
            "1000/1000 [==============================] - 0s 306us/step - loss: 2.1283 - accuracy: 0.2230 - val_loss: 2.2167 - val_accuracy: 0.1872\n",
            "Epoch 38/150\n",
            "1000/1000 [==============================] - 0s 308us/step - loss: 2.1236 - accuracy: 0.2350 - val_loss: 2.2130 - val_accuracy: 0.1874\n",
            "Epoch 39/150\n",
            "1000/1000 [==============================] - 0s 317us/step - loss: 2.1181 - accuracy: 0.2360 - val_loss: 2.2087 - val_accuracy: 0.1892\n",
            "Epoch 40/150\n",
            "1000/1000 [==============================] - 0s 312us/step - loss: 2.1131 - accuracy: 0.2300 - val_loss: 2.2074 - val_accuracy: 0.1907\n",
            "Epoch 41/150\n",
            "1000/1000 [==============================] - 0s 304us/step - loss: 2.1078 - accuracy: 0.2350 - val_loss: 2.2065 - val_accuracy: 0.1931\n",
            "Epoch 42/150\n",
            "1000/1000 [==============================] - 0s 321us/step - loss: 2.1029 - accuracy: 0.2390 - val_loss: 2.2029 - val_accuracy: 0.1928\n",
            "Epoch 43/150\n",
            "1000/1000 [==============================] - 0s 302us/step - loss: 2.0978 - accuracy: 0.2340 - val_loss: 2.2003 - val_accuracy: 0.1964\n",
            "Epoch 44/150\n",
            "1000/1000 [==============================] - 0s 311us/step - loss: 2.0926 - accuracy: 0.2350 - val_loss: 2.1985 - val_accuracy: 0.1985\n",
            "Epoch 45/150\n",
            "1000/1000 [==============================] - 0s 318us/step - loss: 2.0880 - accuracy: 0.2390 - val_loss: 2.1941 - val_accuracy: 0.2002\n",
            "Epoch 46/150\n",
            "1000/1000 [==============================] - 0s 310us/step - loss: 2.0829 - accuracy: 0.2400 - val_loss: 2.1912 - val_accuracy: 0.2027\n",
            "Epoch 47/150\n",
            "1000/1000 [==============================] - 0s 324us/step - loss: 2.0780 - accuracy: 0.2500 - val_loss: 2.1891 - val_accuracy: 0.2045\n",
            "Epoch 48/150\n",
            "1000/1000 [==============================] - 0s 328us/step - loss: 2.0730 - accuracy: 0.2550 - val_loss: 2.1867 - val_accuracy: 0.2072\n",
            "Epoch 49/150\n",
            "1000/1000 [==============================] - 0s 311us/step - loss: 2.0677 - accuracy: 0.2590 - val_loss: 2.1853 - val_accuracy: 0.2098\n",
            "Epoch 50/150\n",
            "1000/1000 [==============================] - 0s 309us/step - loss: 2.0628 - accuracy: 0.2680 - val_loss: 2.1852 - val_accuracy: 0.2088\n",
            "Epoch 51/150\n",
            "1000/1000 [==============================] - 0s 312us/step - loss: 2.0581 - accuracy: 0.2710 - val_loss: 2.1817 - val_accuracy: 0.2124\n",
            "Epoch 52/150\n",
            "1000/1000 [==============================] - 0s 325us/step - loss: 2.0530 - accuracy: 0.2700 - val_loss: 2.1803 - val_accuracy: 0.2131\n",
            "Epoch 53/150\n",
            "1000/1000 [==============================] - 0s 310us/step - loss: 2.0476 - accuracy: 0.2750 - val_loss: 2.1778 - val_accuracy: 0.2153\n",
            "Epoch 54/150\n",
            "1000/1000 [==============================] - 0s 314us/step - loss: 2.0423 - accuracy: 0.2830 - val_loss: 2.1741 - val_accuracy: 0.2182\n",
            "Epoch 55/150\n",
            "1000/1000 [==============================] - 0s 313us/step - loss: 2.0370 - accuracy: 0.2840 - val_loss: 2.1749 - val_accuracy: 0.2158\n",
            "Epoch 56/150\n",
            "1000/1000 [==============================] - 0s 315us/step - loss: 2.0313 - accuracy: 0.2920 - val_loss: 2.1709 - val_accuracy: 0.2192\n",
            "Epoch 57/150\n",
            "1000/1000 [==============================] - 0s 306us/step - loss: 2.0251 - accuracy: 0.2970 - val_loss: 2.1699 - val_accuracy: 0.2213\n",
            "Epoch 58/150\n",
            "1000/1000 [==============================] - 0s 320us/step - loss: 2.0189 - accuracy: 0.3040 - val_loss: 2.1685 - val_accuracy: 0.2229\n",
            "Epoch 59/150\n",
            "1000/1000 [==============================] - 0s 313us/step - loss: 2.0130 - accuracy: 0.3070 - val_loss: 2.1649 - val_accuracy: 0.2254\n",
            "Epoch 60/150\n",
            "1000/1000 [==============================] - 0s 311us/step - loss: 2.0069 - accuracy: 0.3080 - val_loss: 2.1641 - val_accuracy: 0.2264\n",
            "Epoch 61/150\n",
            "1000/1000 [==============================] - 0s 316us/step - loss: 2.0008 - accuracy: 0.3160 - val_loss: 2.1594 - val_accuracy: 0.2291\n",
            "Epoch 62/150\n",
            "1000/1000 [==============================] - 0s 310us/step - loss: 1.9951 - accuracy: 0.3180 - val_loss: 2.1654 - val_accuracy: 0.2234\n",
            "Epoch 63/150\n",
            "1000/1000 [==============================] - 0s 311us/step - loss: 1.9915 - accuracy: 0.3130 - val_loss: 2.1608 - val_accuracy: 0.2270\n",
            "Epoch 64/150\n",
            "1000/1000 [==============================] - 0s 322us/step - loss: 1.9946 - accuracy: 0.3120 - val_loss: 2.1772 - val_accuracy: 0.2193\n",
            "Epoch 65/150\n",
            "1000/1000 [==============================] - 0s 311us/step - loss: 1.9937 - accuracy: 0.2960 - val_loss: 2.1530 - val_accuracy: 0.2302\n",
            "Epoch 66/150\n",
            "1000/1000 [==============================] - 0s 315us/step - loss: 1.9790 - accuracy: 0.3140 - val_loss: 2.1456 - val_accuracy: 0.2381\n",
            "Epoch 67/150\n",
            "1000/1000 [==============================] - 0s 310us/step - loss: 1.9641 - accuracy: 0.3260 - val_loss: 2.1618 - val_accuracy: 0.2271\n",
            "Epoch 68/150\n",
            "1000/1000 [==============================] - 0s 314us/step - loss: 1.9710 - accuracy: 0.3160 - val_loss: 2.1437 - val_accuracy: 0.2386\n",
            "Epoch 69/150\n",
            "1000/1000 [==============================] - 0s 313us/step - loss: 1.9615 - accuracy: 0.3230 - val_loss: 2.1381 - val_accuracy: 0.2421\n",
            "Epoch 70/150\n",
            "1000/1000 [==============================] - 0s 312us/step - loss: 1.9466 - accuracy: 0.3240 - val_loss: 2.1567 - val_accuracy: 0.2322\n",
            "Epoch 71/150\n",
            "1000/1000 [==============================] - 0s 317us/step - loss: 1.9537 - accuracy: 0.3190 - val_loss: 2.1361 - val_accuracy: 0.2411\n",
            "Epoch 72/150\n",
            "1000/1000 [==============================] - 0s 309us/step - loss: 1.9405 - accuracy: 0.3320 - val_loss: 2.1317 - val_accuracy: 0.2454\n",
            "Epoch 73/150\n",
            "1000/1000 [==============================] - 0s 316us/step - loss: 1.9300 - accuracy: 0.3350 - val_loss: 2.1446 - val_accuracy: 0.2384\n",
            "Epoch 74/150\n",
            "1000/1000 [==============================] - 0s 314us/step - loss: 1.9329 - accuracy: 0.3290 - val_loss: 2.1240 - val_accuracy: 0.2472\n",
            "Epoch 75/150\n",
            "1000/1000 [==============================] - 0s 306us/step - loss: 1.9201 - accuracy: 0.3400 - val_loss: 2.1209 - val_accuracy: 0.2486\n",
            "Epoch 76/150\n",
            "1000/1000 [==============================] - 0s 318us/step - loss: 1.9133 - accuracy: 0.3460 - val_loss: 2.1310 - val_accuracy: 0.2401\n",
            "Epoch 77/150\n",
            "1000/1000 [==============================] - 0s 318us/step - loss: 1.9118 - accuracy: 0.3350 - val_loss: 2.1162 - val_accuracy: 0.2483\n",
            "Epoch 78/150\n",
            "1000/1000 [==============================] - 0s 319us/step - loss: 1.9009 - accuracy: 0.3420 - val_loss: 2.1123 - val_accuracy: 0.2523\n",
            "Epoch 79/150\n",
            "1000/1000 [==============================] - 0s 316us/step - loss: 1.8925 - accuracy: 0.3520 - val_loss: 2.1237 - val_accuracy: 0.2425\n",
            "Epoch 80/150\n",
            "1000/1000 [==============================] - 0s 332us/step - loss: 1.8936 - accuracy: 0.3420 - val_loss: 2.1081 - val_accuracy: 0.2529\n",
            "Epoch 81/150\n",
            "1000/1000 [==============================] - 0s 305us/step - loss: 1.8804 - accuracy: 0.3550 - val_loss: 2.1065 - val_accuracy: 0.2532\n",
            "Epoch 82/150\n",
            "1000/1000 [==============================] - 0s 317us/step - loss: 1.8730 - accuracy: 0.3660 - val_loss: 2.1155 - val_accuracy: 0.2489\n",
            "Epoch 83/150\n",
            "1000/1000 [==============================] - 0s 310us/step - loss: 1.8702 - accuracy: 0.3520 - val_loss: 2.1027 - val_accuracy: 0.2541\n",
            "Epoch 84/150\n",
            "1000/1000 [==============================] - 0s 315us/step - loss: 1.8594 - accuracy: 0.3740 - val_loss: 2.0999 - val_accuracy: 0.2543\n",
            "Epoch 85/150\n",
            "1000/1000 [==============================] - 0s 310us/step - loss: 1.8518 - accuracy: 0.3710 - val_loss: 2.1007 - val_accuracy: 0.2552\n",
            "Epoch 86/150\n",
            "1000/1000 [==============================] - 0s 317us/step - loss: 1.8448 - accuracy: 0.3660 - val_loss: 2.0921 - val_accuracy: 0.2585\n",
            "Epoch 87/150\n",
            "1000/1000 [==============================] - 0s 312us/step - loss: 1.8398 - accuracy: 0.3730 - val_loss: 2.0883 - val_accuracy: 0.2584\n",
            "Epoch 88/150\n",
            "1000/1000 [==============================] - 0s 305us/step - loss: 1.8288 - accuracy: 0.3790 - val_loss: 2.0859 - val_accuracy: 0.2597\n",
            "Epoch 89/150\n",
            "1000/1000 [==============================] - 0s 309us/step - loss: 1.8209 - accuracy: 0.3870 - val_loss: 2.0825 - val_accuracy: 0.2606\n",
            "Epoch 90/150\n",
            "1000/1000 [==============================] - 0s 316us/step - loss: 1.8167 - accuracy: 0.3880 - val_loss: 2.0833 - val_accuracy: 0.2589\n",
            "Epoch 91/150\n",
            "1000/1000 [==============================] - 0s 307us/step - loss: 1.8064 - accuracy: 0.3880 - val_loss: 2.0775 - val_accuracy: 0.2620\n",
            "Epoch 92/150\n",
            "1000/1000 [==============================] - 0s 318us/step - loss: 1.7966 - accuracy: 0.3970 - val_loss: 2.0742 - val_accuracy: 0.2613\n",
            "Epoch 93/150\n",
            "1000/1000 [==============================] - 0s 315us/step - loss: 1.7914 - accuracy: 0.4040 - val_loss: 2.0764 - val_accuracy: 0.2630\n",
            "Epoch 94/150\n",
            "1000/1000 [==============================] - 0s 313us/step - loss: 1.7825 - accuracy: 0.3970 - val_loss: 2.0681 - val_accuracy: 0.2616\n",
            "Epoch 95/150\n",
            "1000/1000 [==============================] - 0s 311us/step - loss: 1.7746 - accuracy: 0.4060 - val_loss: 2.0712 - val_accuracy: 0.2620\n",
            "Epoch 96/150\n",
            "1000/1000 [==============================] - 0s 312us/step - loss: 1.7690 - accuracy: 0.4020 - val_loss: 2.0621 - val_accuracy: 0.2633\n",
            "Epoch 97/150\n",
            "1000/1000 [==============================] - 0s 315us/step - loss: 1.7610 - accuracy: 0.4100 - val_loss: 2.0661 - val_accuracy: 0.2658\n",
            "Epoch 98/150\n",
            "1000/1000 [==============================] - 0s 319us/step - loss: 1.7520 - accuracy: 0.4110 - val_loss: 2.0554 - val_accuracy: 0.2684\n",
            "Epoch 99/150\n",
            "1000/1000 [==============================] - 0s 319us/step - loss: 1.7445 - accuracy: 0.4260 - val_loss: 2.0616 - val_accuracy: 0.2674\n",
            "Epoch 100/150\n",
            "1000/1000 [==============================] - 0s 319us/step - loss: 1.7355 - accuracy: 0.4190 - val_loss: 2.0483 - val_accuracy: 0.2696\n",
            "Epoch 101/150\n",
            "1000/1000 [==============================] - 0s 314us/step - loss: 1.7273 - accuracy: 0.4330 - val_loss: 2.0544 - val_accuracy: 0.2685\n",
            "Epoch 102/150\n",
            "1000/1000 [==============================] - 0s 320us/step - loss: 1.7187 - accuracy: 0.4240 - val_loss: 2.0450 - val_accuracy: 0.2711\n",
            "Epoch 103/150\n",
            "1000/1000 [==============================] - 0s 318us/step - loss: 1.7146 - accuracy: 0.4300 - val_loss: 2.0579 - val_accuracy: 0.2687\n",
            "Epoch 104/150\n",
            "1000/1000 [==============================] - 0s 321us/step - loss: 1.7116 - accuracy: 0.4280 - val_loss: 2.0462 - val_accuracy: 0.2695\n",
            "Epoch 105/150\n",
            "1000/1000 [==============================] - 0s 317us/step - loss: 1.7095 - accuracy: 0.4310 - val_loss: 2.0620 - val_accuracy: 0.2644\n",
            "Epoch 106/150\n",
            "1000/1000 [==============================] - 0s 328us/step - loss: 1.6990 - accuracy: 0.4260 - val_loss: 2.0317 - val_accuracy: 0.2770\n",
            "Epoch 107/150\n",
            "1000/1000 [==============================] - 0s 310us/step - loss: 1.6787 - accuracy: 0.4520 - val_loss: 2.0270 - val_accuracy: 0.2775\n",
            "Epoch 108/150\n",
            "1000/1000 [==============================] - 0s 322us/step - loss: 1.6614 - accuracy: 0.4520 - val_loss: 2.0338 - val_accuracy: 0.2772\n",
            "Epoch 109/150\n",
            "1000/1000 [==============================] - 0s 323us/step - loss: 1.6583 - accuracy: 0.4530 - val_loss: 2.0290 - val_accuracy: 0.2765\n",
            "Epoch 110/150\n",
            "1000/1000 [==============================] - 0s 318us/step - loss: 1.6629 - accuracy: 0.4480 - val_loss: 2.0443 - val_accuracy: 0.2722\n",
            "Epoch 111/150\n",
            "1000/1000 [==============================] - 0s 316us/step - loss: 1.6568 - accuracy: 0.4400 - val_loss: 2.0217 - val_accuracy: 0.2786\n",
            "Epoch 112/150\n",
            "1000/1000 [==============================] - 0s 317us/step - loss: 1.6427 - accuracy: 0.4580 - val_loss: 2.0154 - val_accuracy: 0.2826\n",
            "Epoch 113/150\n",
            "1000/1000 [==============================] - 0s 342us/step - loss: 1.6212 - accuracy: 0.4560 - val_loss: 2.0166 - val_accuracy: 0.2827\n",
            "Epoch 114/150\n",
            "1000/1000 [==============================] - 0s 322us/step - loss: 1.6155 - accuracy: 0.4590 - val_loss: 2.0134 - val_accuracy: 0.2828\n",
            "Epoch 115/150\n",
            "1000/1000 [==============================] - 0s 320us/step - loss: 1.6167 - accuracy: 0.4650 - val_loss: 2.0218 - val_accuracy: 0.2807\n",
            "Epoch 116/150\n",
            "1000/1000 [==============================] - 0s 322us/step - loss: 1.6069 - accuracy: 0.4600 - val_loss: 2.0050 - val_accuracy: 0.2898\n",
            "Epoch 117/150\n",
            "1000/1000 [==============================] - 0s 320us/step - loss: 1.5935 - accuracy: 0.4730 - val_loss: 2.0079 - val_accuracy: 0.2861\n",
            "Epoch 118/150\n",
            "1000/1000 [==============================] - 0s 320us/step - loss: 1.5819 - accuracy: 0.4800 - val_loss: 2.0037 - val_accuracy: 0.2918\n",
            "Epoch 119/150\n",
            "1000/1000 [==============================] - 0s 318us/step - loss: 1.5726 - accuracy: 0.4710 - val_loss: 1.9999 - val_accuracy: 0.2935\n",
            "Epoch 120/150\n",
            "1000/1000 [==============================] - 0s 315us/step - loss: 1.5670 - accuracy: 0.4790 - val_loss: 2.0141 - val_accuracy: 0.2859\n",
            "Epoch 121/150\n",
            "1000/1000 [==============================] - 0s 313us/step - loss: 1.5640 - accuracy: 0.4760 - val_loss: 2.0017 - val_accuracy: 0.2956\n",
            "Epoch 122/150\n",
            "1000/1000 [==============================] - 0s 318us/step - loss: 1.5601 - accuracy: 0.4820 - val_loss: 2.0148 - val_accuracy: 0.2870\n",
            "Epoch 123/150\n",
            "1000/1000 [==============================] - 0s 321us/step - loss: 1.5510 - accuracy: 0.4710 - val_loss: 2.0031 - val_accuracy: 0.2935\n",
            "Epoch 124/150\n",
            "1000/1000 [==============================] - 0s 322us/step - loss: 1.5461 - accuracy: 0.4820 - val_loss: 2.0115 - val_accuracy: 0.2920\n",
            "Epoch 125/150\n",
            "1000/1000 [==============================] - 0s 316us/step - loss: 1.5373 - accuracy: 0.4860 - val_loss: 1.9964 - val_accuracy: 0.2957\n",
            "Epoch 126/150\n",
            "1000/1000 [==============================] - 0s 319us/step - loss: 1.5205 - accuracy: 0.4900 - val_loss: 1.9957 - val_accuracy: 0.2975\n",
            "Epoch 127/150\n",
            "1000/1000 [==============================] - 0s 320us/step - loss: 1.5103 - accuracy: 0.4920 - val_loss: 2.0002 - val_accuracy: 0.2989\n",
            "Epoch 128/150\n",
            "1000/1000 [==============================] - 0s 326us/step - loss: 1.5065 - accuracy: 0.4930 - val_loss: 1.9961 - val_accuracy: 0.2974\n",
            "Epoch 129/150\n",
            "1000/1000 [==============================] - 0s 313us/step - loss: 1.5022 - accuracy: 0.4960 - val_loss: 2.0112 - val_accuracy: 0.2917\n",
            "Epoch 130/150\n",
            "1000/1000 [==============================] - 0s 320us/step - loss: 1.4979 - accuracy: 0.4940 - val_loss: 2.0007 - val_accuracy: 0.3012\n",
            "Epoch 131/150\n",
            "1000/1000 [==============================] - 0s 303us/step - loss: 1.4975 - accuracy: 0.4970 - val_loss: 2.0259 - val_accuracy: 0.2872\n",
            "Epoch 132/150\n",
            "1000/1000 [==============================] - 0s 319us/step - loss: 1.4944 - accuracy: 0.5040 - val_loss: 2.0045 - val_accuracy: 0.3038\n",
            "Epoch 133/150\n",
            "1000/1000 [==============================] - 0s 310us/step - loss: 1.4865 - accuracy: 0.5060 - val_loss: 2.0116 - val_accuracy: 0.2965\n",
            "Epoch 134/150\n",
            "1000/1000 [==============================] - 0s 315us/step - loss: 1.4660 - accuracy: 0.5130 - val_loss: 1.9957 - val_accuracy: 0.3028\n",
            "Epoch 135/150\n",
            "1000/1000 [==============================] - 0s 317us/step - loss: 1.4514 - accuracy: 0.5220 - val_loss: 1.9985 - val_accuracy: 0.3093\n",
            "Epoch 136/150\n",
            "1000/1000 [==============================] - 0s 322us/step - loss: 1.4474 - accuracy: 0.5070 - val_loss: 2.0159 - val_accuracy: 0.2958\n",
            "Epoch 137/150\n",
            "1000/1000 [==============================] - 0s 315us/step - loss: 1.4461 - accuracy: 0.5230 - val_loss: 2.0004 - val_accuracy: 0.3081\n",
            "Epoch 138/150\n",
            "1000/1000 [==============================] - 0s 327us/step - loss: 1.4375 - accuracy: 0.5160 - val_loss: 2.0179 - val_accuracy: 0.2982\n",
            "Epoch 139/150\n",
            "1000/1000 [==============================] - 0s 321us/step - loss: 1.4314 - accuracy: 0.5160 - val_loss: 2.0153 - val_accuracy: 0.3017\n",
            "Epoch 140/150\n",
            "1000/1000 [==============================] - 0s 317us/step - loss: 1.4405 - accuracy: 0.5180 - val_loss: 2.0579 - val_accuracy: 0.2943\n",
            "Epoch 141/150\n",
            "1000/1000 [==============================] - 0s 317us/step - loss: 1.4594 - accuracy: 0.4830 - val_loss: 2.0395 - val_accuracy: 0.2993\n",
            "Epoch 142/150\n",
            "1000/1000 [==============================] - 0s 327us/step - loss: 1.4578 - accuracy: 0.5030 - val_loss: 2.0370 - val_accuracy: 0.2972\n",
            "Epoch 143/150\n",
            "1000/1000 [==============================] - 0s 312us/step - loss: 1.4196 - accuracy: 0.5090 - val_loss: 2.0107 - val_accuracy: 0.3126\n",
            "Epoch 144/150\n",
            "1000/1000 [==============================] - 0s 327us/step - loss: 1.4055 - accuracy: 0.5290 - val_loss: 2.0241 - val_accuracy: 0.2988\n",
            "Epoch 145/150\n",
            "1000/1000 [==============================] - 0s 334us/step - loss: 1.4050 - accuracy: 0.5190 - val_loss: 2.0304 - val_accuracy: 0.2990\n",
            "Epoch 146/150\n",
            "1000/1000 [==============================] - 0s 313us/step - loss: 1.3938 - accuracy: 0.5260 - val_loss: 2.0252 - val_accuracy: 0.3123\n",
            "Epoch 147/150\n",
            "1000/1000 [==============================] - 0s 331us/step - loss: 1.4018 - accuracy: 0.5300 - val_loss: 2.0496 - val_accuracy: 0.2957\n",
            "Epoch 148/150\n",
            "1000/1000 [==============================] - 0s 323us/step - loss: 1.3924 - accuracy: 0.5270 - val_loss: 2.0094 - val_accuracy: 0.3126\n",
            "Epoch 149/150\n",
            "1000/1000 [==============================] - 0s 318us/step - loss: 1.3562 - accuracy: 0.5420 - val_loss: 2.0162 - val_accuracy: 0.3132\n",
            "Epoch 150/150\n",
            "1000/1000 [==============================] - 0s 340us/step - loss: 1.3612 - accuracy: 0.5470 - val_loss: 2.0519 - val_accuracy: 0.2972\n"
          ],
          "name": "stdout"
        },
        {
          "output_type": "execute_result",
          "data": {
            "text/plain": [
              "<keras.callbacks.callbacks.History at 0x7f1f8cca2d30>"
            ]
          },
          "metadata": {
            "tags": []
          },
          "execution_count": 85
        }
      ]
    },
    {
      "cell_type": "code",
      "metadata": {
        "id": "_07L42EJ6P74",
        "colab_type": "code",
        "colab": {
          "base_uri": "https://localhost:8080/",
          "height": 1000
        },
        "outputId": "ee144bdf-c947-4116-8af8-9fd29c478305"
      },
      "source": [
        "# Model 2 - First Version --> Using dropout technique\n",
        "samples_per_batch = 1000 # will catch 1000 examples each epoch\n",
        "nr_epochs = 150\n",
        "\n",
        "model_2.fit(x= x_train_xs, \n",
        "            y= y_train_ys, \n",
        "            batch_size= samples_per_batch, \n",
        "            epochs=nr_epochs,\n",
        "            validation_data=(X_validation, y_validation))"
      ],
      "execution_count": 86,
      "outputs": [
        {
          "output_type": "stream",
          "text": [
            "Train on 1000 samples, validate on 10000 samples\n",
            "Epoch 1/150\n",
            "1000/1000 [==============================] - 0s 462us/step - loss: 2.4251 - accuracy: 0.1160 - val_loss: 2.3581 - val_accuracy: 0.0965\n",
            "Epoch 2/150\n",
            "1000/1000 [==============================] - 0s 355us/step - loss: 2.3620 - accuracy: 0.0940 - val_loss: 2.3324 - val_accuracy: 0.0811\n",
            "Epoch 3/150\n",
            "1000/1000 [==============================] - 0s 352us/step - loss: 2.3308 - accuracy: 0.0930 - val_loss: 2.3263 - val_accuracy: 0.0913\n",
            "Epoch 4/150\n",
            "1000/1000 [==============================] - 0s 353us/step - loss: 2.3359 - accuracy: 0.0970 - val_loss: 2.3377 - val_accuracy: 0.0970\n",
            "Epoch 5/150\n",
            "1000/1000 [==============================] - 0s 351us/step - loss: 2.3244 - accuracy: 0.1060 - val_loss: 2.2912 - val_accuracy: 0.1357\n",
            "Epoch 6/150\n",
            "1000/1000 [==============================] - 0s 350us/step - loss: 2.2764 - accuracy: 0.1450 - val_loss: 2.2870 - val_accuracy: 0.1267\n",
            "Epoch 7/150\n",
            "1000/1000 [==============================] - 0s 350us/step - loss: 2.2853 - accuracy: 0.1350 - val_loss: 2.2638 - val_accuracy: 0.1807\n",
            "Epoch 8/150\n",
            "1000/1000 [==============================] - 0s 350us/step - loss: 2.2625 - accuracy: 0.1610 - val_loss: 2.2631 - val_accuracy: 0.1498\n",
            "Epoch 9/150\n",
            "1000/1000 [==============================] - 0s 344us/step - loss: 2.2525 - accuracy: 0.1560 - val_loss: 2.2585 - val_accuracy: 0.1608\n",
            "Epoch 10/150\n",
            "1000/1000 [==============================] - 0s 347us/step - loss: 2.2449 - accuracy: 0.1720 - val_loss: 2.2553 - val_accuracy: 0.1636\n",
            "Epoch 11/150\n",
            "1000/1000 [==============================] - 0s 348us/step - loss: 2.2422 - accuracy: 0.1710 - val_loss: 2.2423 - val_accuracy: 0.1810\n",
            "Epoch 12/150\n",
            "1000/1000 [==============================] - 0s 345us/step - loss: 2.2209 - accuracy: 0.1810 - val_loss: 2.2375 - val_accuracy: 0.1789\n",
            "Epoch 13/150\n",
            "1000/1000 [==============================] - 0s 343us/step - loss: 2.2158 - accuracy: 0.1800 - val_loss: 2.2350 - val_accuracy: 0.1779\n",
            "Epoch 14/150\n",
            "1000/1000 [==============================] - 0s 343us/step - loss: 2.2102 - accuracy: 0.1910 - val_loss: 2.2276 - val_accuracy: 0.1804\n",
            "Epoch 15/150\n",
            "1000/1000 [==============================] - 0s 334us/step - loss: 2.2065 - accuracy: 0.1870 - val_loss: 2.2308 - val_accuracy: 0.1736\n",
            "Epoch 16/150\n",
            "1000/1000 [==============================] - 0s 349us/step - loss: 2.2084 - accuracy: 0.1820 - val_loss: 2.2254 - val_accuracy: 0.1762\n",
            "Epoch 17/150\n",
            "1000/1000 [==============================] - 0s 338us/step - loss: 2.1942 - accuracy: 0.1940 - val_loss: 2.2230 - val_accuracy: 0.1820\n",
            "Epoch 18/150\n",
            "1000/1000 [==============================] - 0s 343us/step - loss: 2.1962 - accuracy: 0.2080 - val_loss: 2.2148 - val_accuracy: 0.1948\n",
            "Epoch 19/150\n",
            "1000/1000 [==============================] - 0s 343us/step - loss: 2.1874 - accuracy: 0.2200 - val_loss: 2.2130 - val_accuracy: 0.2029\n",
            "Epoch 20/150\n",
            "1000/1000 [==============================] - 0s 338us/step - loss: 2.1795 - accuracy: 0.2260 - val_loss: 2.2118 - val_accuracy: 0.2006\n",
            "Epoch 21/150\n",
            "1000/1000 [==============================] - 0s 340us/step - loss: 2.1726 - accuracy: 0.2080 - val_loss: 2.2121 - val_accuracy: 0.1892\n",
            "Epoch 22/150\n",
            "1000/1000 [==============================] - 0s 350us/step - loss: 2.1678 - accuracy: 0.2100 - val_loss: 2.2124 - val_accuracy: 0.1856\n",
            "Epoch 23/150\n",
            "1000/1000 [==============================] - 0s 352us/step - loss: 2.1680 - accuracy: 0.2090 - val_loss: 2.2052 - val_accuracy: 0.1979\n",
            "Epoch 24/150\n",
            "1000/1000 [==============================] - 0s 346us/step - loss: 2.1540 - accuracy: 0.2300 - val_loss: 2.2032 - val_accuracy: 0.2027\n",
            "Epoch 25/150\n",
            "1000/1000 [==============================] - 0s 346us/step - loss: 2.1550 - accuracy: 0.2240 - val_loss: 2.2004 - val_accuracy: 0.1963\n",
            "Epoch 26/150\n",
            "1000/1000 [==============================] - 0s 339us/step - loss: 2.1428 - accuracy: 0.2320 - val_loss: 2.2022 - val_accuracy: 0.1916\n",
            "Epoch 27/150\n",
            "1000/1000 [==============================] - 0s 338us/step - loss: 2.1355 - accuracy: 0.2270 - val_loss: 2.1954 - val_accuracy: 0.2026\n",
            "Epoch 28/150\n",
            "1000/1000 [==============================] - 0s 337us/step - loss: 2.1289 - accuracy: 0.2280 - val_loss: 2.1924 - val_accuracy: 0.2082\n",
            "Epoch 29/150\n",
            "1000/1000 [==============================] - 0s 342us/step - loss: 2.1330 - accuracy: 0.2290 - val_loss: 2.1906 - val_accuracy: 0.2059\n",
            "Epoch 30/150\n",
            "1000/1000 [==============================] - 0s 342us/step - loss: 2.1193 - accuracy: 0.2300 - val_loss: 2.1891 - val_accuracy: 0.1975\n",
            "Epoch 31/150\n",
            "1000/1000 [==============================] - 0s 348us/step - loss: 2.1194 - accuracy: 0.2250 - val_loss: 2.1832 - val_accuracy: 0.2032\n",
            "Epoch 32/150\n",
            "1000/1000 [==============================] - 0s 339us/step - loss: 2.1129 - accuracy: 0.2330 - val_loss: 2.1805 - val_accuracy: 0.2052\n",
            "Epoch 33/150\n",
            "1000/1000 [==============================] - 0s 336us/step - loss: 2.1091 - accuracy: 0.2250 - val_loss: 2.1798 - val_accuracy: 0.2033\n",
            "Epoch 34/150\n",
            "1000/1000 [==============================] - 0s 346us/step - loss: 2.0984 - accuracy: 0.2400 - val_loss: 2.1763 - val_accuracy: 0.2034\n",
            "Epoch 35/150\n",
            "1000/1000 [==============================] - 0s 338us/step - loss: 2.0903 - accuracy: 0.2380 - val_loss: 2.1731 - val_accuracy: 0.2081\n",
            "Epoch 36/150\n",
            "1000/1000 [==============================] - 0s 336us/step - loss: 2.0921 - accuracy: 0.2490 - val_loss: 2.1703 - val_accuracy: 0.2075\n",
            "Epoch 37/150\n",
            "1000/1000 [==============================] - 0s 347us/step - loss: 2.0843 - accuracy: 0.2420 - val_loss: 2.1699 - val_accuracy: 0.2110\n",
            "Epoch 38/150\n",
            "1000/1000 [==============================] - 0s 341us/step - loss: 2.0781 - accuracy: 0.2510 - val_loss: 2.1650 - val_accuracy: 0.2123\n",
            "Epoch 39/150\n",
            "1000/1000 [==============================] - 0s 345us/step - loss: 2.0748 - accuracy: 0.2500 - val_loss: 2.1608 - val_accuracy: 0.2148\n",
            "Epoch 40/150\n",
            "1000/1000 [==============================] - 0s 347us/step - loss: 2.0627 - accuracy: 0.2500 - val_loss: 2.1608 - val_accuracy: 0.2118\n",
            "Epoch 41/150\n",
            "1000/1000 [==============================] - 0s 345us/step - loss: 2.0669 - accuracy: 0.2510 - val_loss: 2.1550 - val_accuracy: 0.2158\n",
            "Epoch 42/150\n",
            "1000/1000 [==============================] - 0s 338us/step - loss: 2.0490 - accuracy: 0.2550 - val_loss: 2.1520 - val_accuracy: 0.2174\n",
            "Epoch 43/150\n",
            "1000/1000 [==============================] - 0s 347us/step - loss: 2.0429 - accuracy: 0.2680 - val_loss: 2.1469 - val_accuracy: 0.2168\n",
            "Epoch 44/150\n",
            "1000/1000 [==============================] - 0s 339us/step - loss: 2.0343 - accuracy: 0.2620 - val_loss: 2.1445 - val_accuracy: 0.2239\n",
            "Epoch 45/150\n",
            "1000/1000 [==============================] - 0s 341us/step - loss: 2.0336 - accuracy: 0.2710 - val_loss: 2.1418 - val_accuracy: 0.2311\n",
            "Epoch 46/150\n",
            "1000/1000 [==============================] - 0s 345us/step - loss: 2.0195 - accuracy: 0.2890 - val_loss: 2.1375 - val_accuracy: 0.2311\n",
            "Epoch 47/150\n",
            "1000/1000 [==============================] - 0s 346us/step - loss: 2.0133 - accuracy: 0.2790 - val_loss: 2.1358 - val_accuracy: 0.2318\n",
            "Epoch 48/150\n",
            "1000/1000 [==============================] - 0s 332us/step - loss: 2.0053 - accuracy: 0.2910 - val_loss: 2.1360 - val_accuracy: 0.2290\n",
            "Epoch 49/150\n",
            "1000/1000 [==============================] - 0s 348us/step - loss: 2.0096 - accuracy: 0.2650 - val_loss: 2.1321 - val_accuracy: 0.2338\n",
            "Epoch 50/150\n",
            "1000/1000 [==============================] - 0s 335us/step - loss: 2.0037 - accuracy: 0.2750 - val_loss: 2.1297 - val_accuracy: 0.2380\n",
            "Epoch 51/150\n",
            "1000/1000 [==============================] - 0s 360us/step - loss: 1.9896 - accuracy: 0.2850 - val_loss: 2.1265 - val_accuracy: 0.2385\n",
            "Epoch 52/150\n",
            "1000/1000 [==============================] - 0s 341us/step - loss: 1.9866 - accuracy: 0.2960 - val_loss: 2.1253 - val_accuracy: 0.2391\n",
            "Epoch 53/150\n",
            "1000/1000 [==============================] - 0s 342us/step - loss: 1.9784 - accuracy: 0.2950 - val_loss: 2.1318 - val_accuracy: 0.2432\n",
            "Epoch 54/150\n",
            "1000/1000 [==============================] - 0s 356us/step - loss: 1.9742 - accuracy: 0.3020 - val_loss: 2.1236 - val_accuracy: 0.2310\n",
            "Epoch 55/150\n",
            "1000/1000 [==============================] - 0s 341us/step - loss: 1.9793 - accuracy: 0.2940 - val_loss: 2.1180 - val_accuracy: 0.2428\n",
            "Epoch 56/150\n",
            "1000/1000 [==============================] - 0s 331us/step - loss: 1.9580 - accuracy: 0.2930 - val_loss: 2.1174 - val_accuracy: 0.2493\n",
            "Epoch 57/150\n",
            "1000/1000 [==============================] - 0s 347us/step - loss: 1.9618 - accuracy: 0.3160 - val_loss: 2.1103 - val_accuracy: 0.2442\n",
            "Epoch 58/150\n",
            "1000/1000 [==============================] - 0s 332us/step - loss: 1.9500 - accuracy: 0.3300 - val_loss: 2.1098 - val_accuracy: 0.2528\n",
            "Epoch 59/150\n",
            "1000/1000 [==============================] - 0s 344us/step - loss: 1.9376 - accuracy: 0.3390 - val_loss: 2.1068 - val_accuracy: 0.2510\n",
            "Epoch 60/150\n",
            "1000/1000 [==============================] - 0s 339us/step - loss: 1.9294 - accuracy: 0.3350 - val_loss: 2.1082 - val_accuracy: 0.2491\n",
            "Epoch 61/150\n",
            "1000/1000 [==============================] - 0s 340us/step - loss: 1.9335 - accuracy: 0.3280 - val_loss: 2.1096 - val_accuracy: 0.2548\n",
            "Epoch 62/150\n",
            "1000/1000 [==============================] - 0s 335us/step - loss: 1.9328 - accuracy: 0.3240 - val_loss: 2.1059 - val_accuracy: 0.2539\n",
            "Epoch 63/150\n",
            "1000/1000 [==============================] - 0s 344us/step - loss: 1.9209 - accuracy: 0.3250 - val_loss: 2.1043 - val_accuracy: 0.2567\n",
            "Epoch 64/150\n",
            "1000/1000 [==============================] - 0s 338us/step - loss: 1.9142 - accuracy: 0.3490 - val_loss: 2.1025 - val_accuracy: 0.2579\n",
            "Epoch 65/150\n",
            "1000/1000 [==============================] - 0s 347us/step - loss: 1.9037 - accuracy: 0.3370 - val_loss: 2.0989 - val_accuracy: 0.2530\n",
            "Epoch 66/150\n",
            "1000/1000 [==============================] - 0s 344us/step - loss: 1.9015 - accuracy: 0.3310 - val_loss: 2.1013 - val_accuracy: 0.2576\n",
            "Epoch 67/150\n",
            "1000/1000 [==============================] - 0s 338us/step - loss: 1.8995 - accuracy: 0.3430 - val_loss: 2.0951 - val_accuracy: 0.2549\n",
            "Epoch 68/150\n",
            "1000/1000 [==============================] - 0s 341us/step - loss: 1.8799 - accuracy: 0.3440 - val_loss: 2.0969 - val_accuracy: 0.2656\n",
            "Epoch 69/150\n",
            "1000/1000 [==============================] - 0s 344us/step - loss: 1.8843 - accuracy: 0.3470 - val_loss: 2.0930 - val_accuracy: 0.2593\n",
            "Epoch 70/150\n",
            "1000/1000 [==============================] - 0s 337us/step - loss: 1.8893 - accuracy: 0.3350 - val_loss: 2.0925 - val_accuracy: 0.2657\n",
            "Epoch 71/150\n",
            "1000/1000 [==============================] - 0s 343us/step - loss: 1.8796 - accuracy: 0.3480 - val_loss: 2.0889 - val_accuracy: 0.2695\n",
            "Epoch 72/150\n",
            "1000/1000 [==============================] - 0s 349us/step - loss: 1.8644 - accuracy: 0.3550 - val_loss: 2.0880 - val_accuracy: 0.2684\n",
            "Epoch 73/150\n",
            "1000/1000 [==============================] - 0s 340us/step - loss: 1.8684 - accuracy: 0.3510 - val_loss: 2.0927 - val_accuracy: 0.2701\n",
            "Epoch 74/150\n",
            "1000/1000 [==============================] - 0s 352us/step - loss: 1.8535 - accuracy: 0.3520 - val_loss: 2.0844 - val_accuracy: 0.2657\n",
            "Epoch 75/150\n",
            "1000/1000 [==============================] - 0s 348us/step - loss: 1.8556 - accuracy: 0.3510 - val_loss: 2.0852 - val_accuracy: 0.2739\n",
            "Epoch 76/150\n",
            "1000/1000 [==============================] - 0s 339us/step - loss: 1.8500 - accuracy: 0.3630 - val_loss: 2.0798 - val_accuracy: 0.2708\n",
            "Epoch 77/150\n",
            "1000/1000 [==============================] - 0s 335us/step - loss: 1.8522 - accuracy: 0.3540 - val_loss: 2.0938 - val_accuracy: 0.2697\n",
            "Epoch 78/150\n",
            "1000/1000 [==============================] - 0s 342us/step - loss: 1.8472 - accuracy: 0.3620 - val_loss: 2.0987 - val_accuracy: 0.2609\n",
            "Epoch 79/150\n",
            "1000/1000 [==============================] - 0s 344us/step - loss: 1.8491 - accuracy: 0.3510 - val_loss: 2.0908 - val_accuracy: 0.2691\n",
            "Epoch 80/150\n",
            "1000/1000 [==============================] - 0s 338us/step - loss: 1.8426 - accuracy: 0.3640 - val_loss: 2.0724 - val_accuracy: 0.2782\n",
            "Epoch 81/150\n",
            "1000/1000 [==============================] - 0s 351us/step - loss: 1.8048 - accuracy: 0.3890 - val_loss: 2.0812 - val_accuracy: 0.2727\n",
            "Epoch 82/150\n",
            "1000/1000 [==============================] - 0s 335us/step - loss: 1.8220 - accuracy: 0.3530 - val_loss: 2.0768 - val_accuracy: 0.2761\n",
            "Epoch 83/150\n",
            "1000/1000 [==============================] - 0s 344us/step - loss: 1.8183 - accuracy: 0.3730 - val_loss: 2.0692 - val_accuracy: 0.2792\n",
            "Epoch 84/150\n",
            "1000/1000 [==============================] - 0s 369us/step - loss: 1.8022 - accuracy: 0.3670 - val_loss: 2.0763 - val_accuracy: 0.2775\n",
            "Epoch 85/150\n",
            "1000/1000 [==============================] - 0s 342us/step - loss: 1.8053 - accuracy: 0.3780 - val_loss: 2.0792 - val_accuracy: 0.2795\n",
            "Epoch 86/150\n",
            "1000/1000 [==============================] - 0s 336us/step - loss: 1.7861 - accuracy: 0.3780 - val_loss: 2.0736 - val_accuracy: 0.2780\n",
            "Epoch 87/150\n",
            "1000/1000 [==============================] - 0s 345us/step - loss: 1.7974 - accuracy: 0.3880 - val_loss: 2.0821 - val_accuracy: 0.2778\n",
            "Epoch 88/150\n",
            "1000/1000 [==============================] - 0s 344us/step - loss: 1.7858 - accuracy: 0.3810 - val_loss: 2.0731 - val_accuracy: 0.2774\n",
            "Epoch 89/150\n",
            "1000/1000 [==============================] - 0s 341us/step - loss: 1.7817 - accuracy: 0.3850 - val_loss: 2.0677 - val_accuracy: 0.2822\n",
            "Epoch 90/150\n",
            "1000/1000 [==============================] - 0s 346us/step - loss: 1.7759 - accuracy: 0.3880 - val_loss: 2.0696 - val_accuracy: 0.2789\n",
            "Epoch 91/150\n",
            "1000/1000 [==============================] - 0s 345us/step - loss: 1.7870 - accuracy: 0.3790 - val_loss: 2.0951 - val_accuracy: 0.2699\n",
            "Epoch 92/150\n",
            "1000/1000 [==============================] - 0s 346us/step - loss: 1.7903 - accuracy: 0.3840 - val_loss: 2.0748 - val_accuracy: 0.2757\n",
            "Epoch 93/150\n",
            "1000/1000 [==============================] - 0s 347us/step - loss: 1.7655 - accuracy: 0.3880 - val_loss: 2.0838 - val_accuracy: 0.2806\n",
            "Epoch 94/150\n",
            "1000/1000 [==============================] - 0s 339us/step - loss: 1.7699 - accuracy: 0.3890 - val_loss: 2.0708 - val_accuracy: 0.2809\n",
            "Epoch 95/150\n",
            "1000/1000 [==============================] - 0s 340us/step - loss: 1.7553 - accuracy: 0.3890 - val_loss: 2.0610 - val_accuracy: 0.2821\n",
            "Epoch 96/150\n",
            "1000/1000 [==============================] - 0s 349us/step - loss: 1.7415 - accuracy: 0.3980 - val_loss: 2.0857 - val_accuracy: 0.2776\n",
            "Epoch 97/150\n",
            "1000/1000 [==============================] - 0s 341us/step - loss: 1.7627 - accuracy: 0.3890 - val_loss: 2.0754 - val_accuracy: 0.2763\n",
            "Epoch 98/150\n",
            "1000/1000 [==============================] - 0s 342us/step - loss: 1.7588 - accuracy: 0.3820 - val_loss: 2.0670 - val_accuracy: 0.2867\n",
            "Epoch 99/150\n",
            "1000/1000 [==============================] - 0s 347us/step - loss: 1.7324 - accuracy: 0.4170 - val_loss: 2.0700 - val_accuracy: 0.2824\n",
            "Epoch 100/150\n",
            "1000/1000 [==============================] - 0s 339us/step - loss: 1.7314 - accuracy: 0.3970 - val_loss: 2.0689 - val_accuracy: 0.2797\n",
            "Epoch 101/150\n",
            "1000/1000 [==============================] - 0s 349us/step - loss: 1.7461 - accuracy: 0.3930 - val_loss: 2.0728 - val_accuracy: 0.2850\n",
            "Epoch 102/150\n",
            "1000/1000 [==============================] - 0s 341us/step - loss: 1.7209 - accuracy: 0.4230 - val_loss: 2.0684 - val_accuracy: 0.2847\n",
            "Epoch 103/150\n",
            "1000/1000 [==============================] - 0s 345us/step - loss: 1.7150 - accuracy: 0.4060 - val_loss: 2.0586 - val_accuracy: 0.2850\n",
            "Epoch 104/150\n",
            "1000/1000 [==============================] - 0s 345us/step - loss: 1.7165 - accuracy: 0.4050 - val_loss: 2.0714 - val_accuracy: 0.2829\n",
            "Epoch 105/150\n",
            "1000/1000 [==============================] - 0s 349us/step - loss: 1.7084 - accuracy: 0.4000 - val_loss: 2.0587 - val_accuracy: 0.2873\n",
            "Epoch 106/150\n",
            "1000/1000 [==============================] - 0s 339us/step - loss: 1.7141 - accuracy: 0.4080 - val_loss: 2.0582 - val_accuracy: 0.2884\n",
            "Epoch 107/150\n",
            "1000/1000 [==============================] - 0s 350us/step - loss: 1.7066 - accuracy: 0.4100 - val_loss: 2.0612 - val_accuracy: 0.2862\n",
            "Epoch 108/150\n",
            "1000/1000 [==============================] - 0s 335us/step - loss: 1.7153 - accuracy: 0.4080 - val_loss: 2.0552 - val_accuracy: 0.2863\n",
            "Epoch 109/150\n",
            "1000/1000 [==============================] - 0s 338us/step - loss: 1.6960 - accuracy: 0.4190 - val_loss: 2.0680 - val_accuracy: 0.2838\n",
            "Epoch 110/150\n",
            "1000/1000 [==============================] - 0s 347us/step - loss: 1.6918 - accuracy: 0.4030 - val_loss: 2.0540 - val_accuracy: 0.2877\n",
            "Epoch 111/150\n",
            "1000/1000 [==============================] - 0s 341us/step - loss: 1.6733 - accuracy: 0.4120 - val_loss: 2.0539 - val_accuracy: 0.2897\n",
            "Epoch 112/150\n",
            "1000/1000 [==============================] - 0s 333us/step - loss: 1.6773 - accuracy: 0.4170 - val_loss: 2.0568 - val_accuracy: 0.2899\n",
            "Epoch 113/150\n",
            "1000/1000 [==============================] - 0s 360us/step - loss: 1.6621 - accuracy: 0.4230 - val_loss: 2.0572 - val_accuracy: 0.2846\n",
            "Epoch 114/150\n",
            "1000/1000 [==============================] - 0s 354us/step - loss: 1.6587 - accuracy: 0.4360 - val_loss: 2.0533 - val_accuracy: 0.2889\n",
            "Epoch 115/150\n",
            "1000/1000 [==============================] - 0s 346us/step - loss: 1.6639 - accuracy: 0.4160 - val_loss: 2.0693 - val_accuracy: 0.2890\n",
            "Epoch 116/150\n",
            "1000/1000 [==============================] - 0s 338us/step - loss: 1.6627 - accuracy: 0.4260 - val_loss: 2.0522 - val_accuracy: 0.2914\n",
            "Epoch 117/150\n",
            "1000/1000 [==============================] - 0s 344us/step - loss: 1.6547 - accuracy: 0.4310 - val_loss: 2.0563 - val_accuracy: 0.2874\n",
            "Epoch 118/150\n",
            "1000/1000 [==============================] - 0s 334us/step - loss: 1.6463 - accuracy: 0.4340 - val_loss: 2.0725 - val_accuracy: 0.2851\n",
            "Epoch 119/150\n",
            "1000/1000 [==============================] - 0s 353us/step - loss: 1.6443 - accuracy: 0.4310 - val_loss: 2.0632 - val_accuracy: 0.2898\n",
            "Epoch 120/150\n",
            "1000/1000 [==============================] - 0s 334us/step - loss: 1.6674 - accuracy: 0.4220 - val_loss: 2.0863 - val_accuracy: 0.2868\n",
            "Epoch 121/150\n",
            "1000/1000 [==============================] - 0s 339us/step - loss: 1.6607 - accuracy: 0.4290 - val_loss: 2.0550 - val_accuracy: 0.2904\n",
            "Epoch 122/150\n",
            "1000/1000 [==============================] - 0s 342us/step - loss: 1.6410 - accuracy: 0.4350 - val_loss: 2.0585 - val_accuracy: 0.2891\n",
            "Epoch 123/150\n",
            "1000/1000 [==============================] - 0s 343us/step - loss: 1.6323 - accuracy: 0.4240 - val_loss: 2.0768 - val_accuracy: 0.2837\n",
            "Epoch 124/150\n",
            "1000/1000 [==============================] - 0s 335us/step - loss: 1.6259 - accuracy: 0.4410 - val_loss: 2.0646 - val_accuracy: 0.2890\n",
            "Epoch 125/150\n",
            "1000/1000 [==============================] - 0s 349us/step - loss: 1.6317 - accuracy: 0.4330 - val_loss: 2.0624 - val_accuracy: 0.2878\n",
            "Epoch 126/150\n",
            "1000/1000 [==============================] - 0s 337us/step - loss: 1.6230 - accuracy: 0.4400 - val_loss: 2.0522 - val_accuracy: 0.2896\n",
            "Epoch 127/150\n",
            "1000/1000 [==============================] - 0s 339us/step - loss: 1.6251 - accuracy: 0.4320 - val_loss: 2.0548 - val_accuracy: 0.2908\n",
            "Epoch 128/150\n",
            "1000/1000 [==============================] - 0s 344us/step - loss: 1.6178 - accuracy: 0.4270 - val_loss: 2.0794 - val_accuracy: 0.2889\n",
            "Epoch 129/150\n",
            "1000/1000 [==============================] - 0s 342us/step - loss: 1.6239 - accuracy: 0.4530 - val_loss: 2.0551 - val_accuracy: 0.2941\n",
            "Epoch 130/150\n",
            "1000/1000 [==============================] - 0s 339us/step - loss: 1.6126 - accuracy: 0.4310 - val_loss: 2.0545 - val_accuracy: 0.2936\n",
            "Epoch 131/150\n",
            "1000/1000 [==============================] - 0s 350us/step - loss: 1.5848 - accuracy: 0.4550 - val_loss: 2.0852 - val_accuracy: 0.2898\n",
            "Epoch 132/150\n",
            "1000/1000 [==============================] - 0s 340us/step - loss: 1.6121 - accuracy: 0.4250 - val_loss: 2.0774 - val_accuracy: 0.2901\n",
            "Epoch 133/150\n",
            "1000/1000 [==============================] - 0s 348us/step - loss: 1.6224 - accuracy: 0.4390 - val_loss: 2.0775 - val_accuracy: 0.2897\n",
            "Epoch 134/150\n",
            "1000/1000 [==============================] - 0s 340us/step - loss: 1.5841 - accuracy: 0.4650 - val_loss: 2.0588 - val_accuracy: 0.2936\n",
            "Epoch 135/150\n",
            "1000/1000 [==============================] - 0s 337us/step - loss: 1.5641 - accuracy: 0.4540 - val_loss: 2.0698 - val_accuracy: 0.2914\n",
            "Epoch 136/150\n",
            "1000/1000 [==============================] - 0s 345us/step - loss: 1.5937 - accuracy: 0.4540 - val_loss: 2.1029 - val_accuracy: 0.2820\n",
            "Epoch 137/150\n",
            "1000/1000 [==============================] - 0s 347us/step - loss: 1.6014 - accuracy: 0.4300 - val_loss: 2.0536 - val_accuracy: 0.2922\n",
            "Epoch 138/150\n",
            "1000/1000 [==============================] - 0s 334us/step - loss: 1.5748 - accuracy: 0.4490 - val_loss: 2.0534 - val_accuracy: 0.2936\n",
            "Epoch 139/150\n",
            "1000/1000 [==============================] - 0s 347us/step - loss: 1.5834 - accuracy: 0.4520 - val_loss: 2.0752 - val_accuracy: 0.2932\n",
            "Epoch 140/150\n",
            "1000/1000 [==============================] - 0s 347us/step - loss: 1.5783 - accuracy: 0.4490 - val_loss: 2.0532 - val_accuracy: 0.2918\n",
            "Epoch 141/150\n",
            "1000/1000 [==============================] - 0s 344us/step - loss: 1.5604 - accuracy: 0.4650 - val_loss: 2.0559 - val_accuracy: 0.2967\n",
            "Epoch 142/150\n",
            "1000/1000 [==============================] - 0s 338us/step - loss: 1.5622 - accuracy: 0.4620 - val_loss: 2.0921 - val_accuracy: 0.2916\n",
            "Epoch 143/150\n",
            "1000/1000 [==============================] - 0s 347us/step - loss: 1.5637 - accuracy: 0.4350 - val_loss: 2.0629 - val_accuracy: 0.2952\n",
            "Epoch 144/150\n",
            "1000/1000 [==============================] - 0s 354us/step - loss: 1.5726 - accuracy: 0.4630 - val_loss: 2.0581 - val_accuracy: 0.2946\n",
            "Epoch 145/150\n",
            "1000/1000 [==============================] - 0s 342us/step - loss: 1.5386 - accuracy: 0.4790 - val_loss: 2.0743 - val_accuracy: 0.2962\n",
            "Epoch 146/150\n",
            "1000/1000 [==============================] - 0s 338us/step - loss: 1.5597 - accuracy: 0.4560 - val_loss: 2.0600 - val_accuracy: 0.2966\n",
            "Epoch 147/150\n",
            "1000/1000 [==============================] - 0s 343us/step - loss: 1.5363 - accuracy: 0.4830 - val_loss: 2.0529 - val_accuracy: 0.2978\n",
            "Epoch 148/150\n",
            "1000/1000 [==============================] - 0s 334us/step - loss: 1.5419 - accuracy: 0.4750 - val_loss: 2.0589 - val_accuracy: 0.2958\n",
            "Epoch 149/150\n",
            "1000/1000 [==============================] - 0s 351us/step - loss: 1.5250 - accuracy: 0.4770 - val_loss: 2.0602 - val_accuracy: 0.2937\n",
            "Epoch 150/150\n",
            "1000/1000 [==============================] - 0s 345us/step - loss: 1.5333 - accuracy: 0.4760 - val_loss: 2.0589 - val_accuracy: 0.2963\n"
          ],
          "name": "stdout"
        },
        {
          "output_type": "execute_result",
          "data": {
            "text/plain": [
              "<keras.callbacks.callbacks.History at 0x7f1f8cabb978>"
            ]
          },
          "metadata": {
            "tags": []
          },
          "execution_count": 86
        }
      ]
    },
    {
      "cell_type": "markdown",
      "metadata": {
        "id": "0UO5jsFbJiz9",
        "colab_type": "text"
      },
      "source": [
        "Models tunning! Second Versions (Model 1 + Model 2)"
      ]
    },
    {
      "cell_type": "code",
      "metadata": {
        "id": "doR6Q_51IFSu",
        "colab_type": "code",
        "colab": {
          "base_uri": "https://localhost:8080/",
          "height": 1000
        },
        "outputId": "510c629c-fbaf-436c-ed13-d963dc5f7348"
      },
      "source": [
        "# Model 1 - Second Version --> Reducing training epochs and using the large dataset\n",
        "\n",
        "samples_per_batch = 1000 # will catch 1000 examples each epoch\n",
        "nr_epochs = 100\n",
        "\n",
        "model_1.fit(x= x_train, \n",
        "            y= y_train, \n",
        "            batch_size= samples_per_batch, \n",
        "            epochs=nr_epochs,\n",
        "            validation_data=(X_validation, y_validation))"
      ],
      "execution_count": 87,
      "outputs": [
        {
          "output_type": "stream",
          "text": [
            "Train on 40000 samples, validate on 10000 samples\n",
            "Epoch 1/100\n",
            "40000/40000 [==============================] - 2s 60us/step - loss: 1.9395 - accuracy: 0.3161 - val_loss: 1.8518 - val_accuracy: 0.3483\n",
            "Epoch 2/100\n",
            "40000/40000 [==============================] - 2s 61us/step - loss: 1.8219 - accuracy: 0.3577 - val_loss: 1.7790 - val_accuracy: 0.3774\n",
            "Epoch 3/100\n",
            "40000/40000 [==============================] - 2s 61us/step - loss: 1.7679 - accuracy: 0.3779 - val_loss: 1.7601 - val_accuracy: 0.3817\n",
            "Epoch 4/100\n",
            "40000/40000 [==============================] - 2s 62us/step - loss: 1.7428 - accuracy: 0.3849 - val_loss: 1.7257 - val_accuracy: 0.3916\n",
            "Epoch 5/100\n",
            "40000/40000 [==============================] - 2s 61us/step - loss: 1.7079 - accuracy: 0.3964 - val_loss: 1.7097 - val_accuracy: 0.3942\n",
            "Epoch 6/100\n",
            "40000/40000 [==============================] - 2s 61us/step - loss: 1.6841 - accuracy: 0.4056 - val_loss: 1.6883 - val_accuracy: 0.4006\n",
            "Epoch 7/100\n",
            "40000/40000 [==============================] - 2s 60us/step - loss: 1.6580 - accuracy: 0.4140 - val_loss: 1.6623 - val_accuracy: 0.4125\n",
            "Epoch 8/100\n",
            "40000/40000 [==============================] - 2s 61us/step - loss: 1.6405 - accuracy: 0.4196 - val_loss: 1.6636 - val_accuracy: 0.4083\n",
            "Epoch 9/100\n",
            "40000/40000 [==============================] - 2s 60us/step - loss: 1.6198 - accuracy: 0.4272 - val_loss: 1.6271 - val_accuracy: 0.4205\n",
            "Epoch 10/100\n",
            "40000/40000 [==============================] - 2s 60us/step - loss: 1.5958 - accuracy: 0.4359 - val_loss: 1.6174 - val_accuracy: 0.4254\n",
            "Epoch 11/100\n",
            "40000/40000 [==============================] - 2s 60us/step - loss: 1.5831 - accuracy: 0.4424 - val_loss: 1.6260 - val_accuracy: 0.4263\n",
            "Epoch 12/100\n",
            "40000/40000 [==============================] - 2s 61us/step - loss: 1.5843 - accuracy: 0.4379 - val_loss: 1.6149 - val_accuracy: 0.4280\n",
            "Epoch 13/100\n",
            "40000/40000 [==============================] - 2s 60us/step - loss: 1.5577 - accuracy: 0.4503 - val_loss: 1.5722 - val_accuracy: 0.4444\n",
            "Epoch 14/100\n",
            "40000/40000 [==============================] - 2s 60us/step - loss: 1.5413 - accuracy: 0.4555 - val_loss: 1.5706 - val_accuracy: 0.4420\n",
            "Epoch 15/100\n",
            "40000/40000 [==============================] - 2s 60us/step - loss: 1.5272 - accuracy: 0.4595 - val_loss: 1.5539 - val_accuracy: 0.4492\n",
            "Epoch 16/100\n",
            "40000/40000 [==============================] - 2s 60us/step - loss: 1.5115 - accuracy: 0.4668 - val_loss: 1.5626 - val_accuracy: 0.4441\n",
            "Epoch 17/100\n",
            "40000/40000 [==============================] - 2s 61us/step - loss: 1.5331 - accuracy: 0.4564 - val_loss: 1.5559 - val_accuracy: 0.4480\n",
            "Epoch 18/100\n",
            "40000/40000 [==============================] - 2s 61us/step - loss: 1.5040 - accuracy: 0.4651 - val_loss: 1.5504 - val_accuracy: 0.4486\n",
            "Epoch 19/100\n",
            "40000/40000 [==============================] - 2s 61us/step - loss: 1.4846 - accuracy: 0.4753 - val_loss: 1.5207 - val_accuracy: 0.4621\n",
            "Epoch 20/100\n",
            "40000/40000 [==============================] - 2s 61us/step - loss: 1.4780 - accuracy: 0.4789 - val_loss: 1.5172 - val_accuracy: 0.4625\n",
            "Epoch 21/100\n",
            "40000/40000 [==============================] - 2s 62us/step - loss: 1.4652 - accuracy: 0.4825 - val_loss: 1.5511 - val_accuracy: 0.4517\n",
            "Epoch 22/100\n",
            "40000/40000 [==============================] - 2s 60us/step - loss: 1.4591 - accuracy: 0.4845 - val_loss: 1.5080 - val_accuracy: 0.4610\n",
            "Epoch 23/100\n",
            "40000/40000 [==============================] - 2s 61us/step - loss: 1.4576 - accuracy: 0.4854 - val_loss: 1.5034 - val_accuracy: 0.4657\n",
            "Epoch 24/100\n",
            "40000/40000 [==============================] - 2s 60us/step - loss: 1.4433 - accuracy: 0.4915 - val_loss: 1.5084 - val_accuracy: 0.4631\n",
            "Epoch 25/100\n",
            "40000/40000 [==============================] - 2s 61us/step - loss: 1.4426 - accuracy: 0.4893 - val_loss: 1.4942 - val_accuracy: 0.4684\n",
            "Epoch 26/100\n",
            "40000/40000 [==============================] - 2s 60us/step - loss: 1.4351 - accuracy: 0.4920 - val_loss: 1.5117 - val_accuracy: 0.4629\n",
            "Epoch 27/100\n",
            "40000/40000 [==============================] - 2s 60us/step - loss: 1.4300 - accuracy: 0.4930 - val_loss: 1.5078 - val_accuracy: 0.4609\n",
            "Epoch 28/100\n",
            "40000/40000 [==============================] - 2s 61us/step - loss: 1.4178 - accuracy: 0.4981 - val_loss: 1.4895 - val_accuracy: 0.4686\n",
            "Epoch 29/100\n",
            "40000/40000 [==============================] - 2s 61us/step - loss: 1.4209 - accuracy: 0.4958 - val_loss: 1.4966 - val_accuracy: 0.4670\n",
            "Epoch 30/100\n",
            "40000/40000 [==============================] - 2s 61us/step - loss: 1.4167 - accuracy: 0.4993 - val_loss: 1.4962 - val_accuracy: 0.4648\n",
            "Epoch 31/100\n",
            "40000/40000 [==============================] - 2s 61us/step - loss: 1.4081 - accuracy: 0.5005 - val_loss: 1.5215 - val_accuracy: 0.4536\n",
            "Epoch 32/100\n",
            "40000/40000 [==============================] - 2s 60us/step - loss: 1.3923 - accuracy: 0.5063 - val_loss: 1.4817 - val_accuracy: 0.4688\n",
            "Epoch 33/100\n",
            "40000/40000 [==============================] - 2s 60us/step - loss: 1.3895 - accuracy: 0.5076 - val_loss: 1.4830 - val_accuracy: 0.4738\n",
            "Epoch 34/100\n",
            "40000/40000 [==============================] - 2s 61us/step - loss: 1.3927 - accuracy: 0.5077 - val_loss: 1.4845 - val_accuracy: 0.4687\n",
            "Epoch 35/100\n",
            "40000/40000 [==============================] - 2s 61us/step - loss: 1.3838 - accuracy: 0.5072 - val_loss: 1.4802 - val_accuracy: 0.4764\n",
            "Epoch 36/100\n",
            "40000/40000 [==============================] - 2s 61us/step - loss: 1.3802 - accuracy: 0.5097 - val_loss: 1.4837 - val_accuracy: 0.4738\n",
            "Epoch 37/100\n",
            "40000/40000 [==============================] - 2s 60us/step - loss: 1.3662 - accuracy: 0.5151 - val_loss: 1.4663 - val_accuracy: 0.4782\n",
            "Epoch 38/100\n",
            "40000/40000 [==============================] - 2s 61us/step - loss: 1.3573 - accuracy: 0.5190 - val_loss: 1.4744 - val_accuracy: 0.4753\n",
            "Epoch 39/100\n",
            "40000/40000 [==============================] - 2s 62us/step - loss: 1.3698 - accuracy: 0.5149 - val_loss: 1.4871 - val_accuracy: 0.4693\n",
            "Epoch 40/100\n",
            "40000/40000 [==============================] - 2s 60us/step - loss: 1.3616 - accuracy: 0.5177 - val_loss: 1.4657 - val_accuracy: 0.4797\n",
            "Epoch 41/100\n",
            "40000/40000 [==============================] - 2s 61us/step - loss: 1.3476 - accuracy: 0.5227 - val_loss: 1.4746 - val_accuracy: 0.4735\n",
            "Epoch 42/100\n",
            "40000/40000 [==============================] - 2s 61us/step - loss: 1.3456 - accuracy: 0.5229 - val_loss: 1.4575 - val_accuracy: 0.4809\n",
            "Epoch 43/100\n",
            "40000/40000 [==============================] - 2s 61us/step - loss: 1.3373 - accuracy: 0.5243 - val_loss: 1.4671 - val_accuracy: 0.4798\n",
            "Epoch 44/100\n",
            "40000/40000 [==============================] - 2s 61us/step - loss: 1.3343 - accuracy: 0.5260 - val_loss: 1.4544 - val_accuracy: 0.4796\n",
            "Epoch 45/100\n",
            "40000/40000 [==============================] - 2s 60us/step - loss: 1.3270 - accuracy: 0.5307 - val_loss: 1.4593 - val_accuracy: 0.4850\n",
            "Epoch 46/100\n",
            "40000/40000 [==============================] - 2s 61us/step - loss: 1.3244 - accuracy: 0.5307 - val_loss: 1.4591 - val_accuracy: 0.4856\n",
            "Epoch 47/100\n",
            "40000/40000 [==============================] - 2s 61us/step - loss: 1.3279 - accuracy: 0.5283 - val_loss: 1.4584 - val_accuracy: 0.4787\n",
            "Epoch 48/100\n",
            "40000/40000 [==============================] - 2s 60us/step - loss: 1.3254 - accuracy: 0.5303 - val_loss: 1.4472 - val_accuracy: 0.4859\n",
            "Epoch 49/100\n",
            "40000/40000 [==============================] - 2s 60us/step - loss: 1.3132 - accuracy: 0.5340 - val_loss: 1.4538 - val_accuracy: 0.4790\n",
            "Epoch 50/100\n",
            "40000/40000 [==============================] - 2s 61us/step - loss: 1.3080 - accuracy: 0.5334 - val_loss: 1.4683 - val_accuracy: 0.4792\n",
            "Epoch 51/100\n",
            "40000/40000 [==============================] - 2s 61us/step - loss: 1.3078 - accuracy: 0.5357 - val_loss: 1.4477 - val_accuracy: 0.4912\n",
            "Epoch 52/100\n",
            "40000/40000 [==============================] - 2s 60us/step - loss: 1.2975 - accuracy: 0.5393 - val_loss: 1.4431 - val_accuracy: 0.4860\n",
            "Epoch 53/100\n",
            "40000/40000 [==============================] - 2s 61us/step - loss: 1.3009 - accuracy: 0.5372 - val_loss: 1.4494 - val_accuracy: 0.4882\n",
            "Epoch 54/100\n",
            "40000/40000 [==============================] - 2s 60us/step - loss: 1.3065 - accuracy: 0.5350 - val_loss: 1.4721 - val_accuracy: 0.4720\n",
            "Epoch 55/100\n",
            "40000/40000 [==============================] - 2s 61us/step - loss: 1.2958 - accuracy: 0.5396 - val_loss: 1.4562 - val_accuracy: 0.4881\n",
            "Epoch 56/100\n",
            "40000/40000 [==============================] - 2s 61us/step - loss: 1.2853 - accuracy: 0.5436 - val_loss: 1.4753 - val_accuracy: 0.4785\n",
            "Epoch 57/100\n",
            "40000/40000 [==============================] - 2s 61us/step - loss: 1.3001 - accuracy: 0.5385 - val_loss: 1.4550 - val_accuracy: 0.4816\n",
            "Epoch 58/100\n",
            "40000/40000 [==============================] - 2s 61us/step - loss: 1.2884 - accuracy: 0.5415 - val_loss: 1.4445 - val_accuracy: 0.4866\n",
            "Epoch 59/100\n",
            "40000/40000 [==============================] - 2s 61us/step - loss: 1.2828 - accuracy: 0.5445 - val_loss: 1.4676 - val_accuracy: 0.4806\n",
            "Epoch 60/100\n",
            "40000/40000 [==============================] - 2s 60us/step - loss: 1.2880 - accuracy: 0.5432 - val_loss: 1.4612 - val_accuracy: 0.4861\n",
            "Epoch 61/100\n",
            "40000/40000 [==============================] - 2s 61us/step - loss: 1.2711 - accuracy: 0.5506 - val_loss: 1.4505 - val_accuracy: 0.4882\n",
            "Epoch 62/100\n",
            "40000/40000 [==============================] - 2s 61us/step - loss: 1.2648 - accuracy: 0.5498 - val_loss: 1.4550 - val_accuracy: 0.4824\n",
            "Epoch 63/100\n",
            "40000/40000 [==============================] - 2s 61us/step - loss: 1.2615 - accuracy: 0.5527 - val_loss: 1.4637 - val_accuracy: 0.4824\n",
            "Epoch 64/100\n",
            "40000/40000 [==============================] - 2s 61us/step - loss: 1.2560 - accuracy: 0.5552 - val_loss: 1.4397 - val_accuracy: 0.4885\n",
            "Epoch 65/100\n",
            "40000/40000 [==============================] - 2s 61us/step - loss: 1.2517 - accuracy: 0.5563 - val_loss: 1.4659 - val_accuracy: 0.4784\n",
            "Epoch 66/100\n",
            "40000/40000 [==============================] - 2s 60us/step - loss: 1.2578 - accuracy: 0.5542 - val_loss: 1.4695 - val_accuracy: 0.4812\n",
            "Epoch 67/100\n",
            "40000/40000 [==============================] - 2s 60us/step - loss: 1.2505 - accuracy: 0.5565 - val_loss: 1.4472 - val_accuracy: 0.4896\n",
            "Epoch 68/100\n",
            "40000/40000 [==============================] - 2s 61us/step - loss: 1.2493 - accuracy: 0.5562 - val_loss: 1.4621 - val_accuracy: 0.4864\n",
            "Epoch 69/100\n",
            "40000/40000 [==============================] - 2s 61us/step - loss: 1.2594 - accuracy: 0.5519 - val_loss: 1.4555 - val_accuracy: 0.4872\n",
            "Epoch 70/100\n",
            "40000/40000 [==============================] - 2s 61us/step - loss: 1.2440 - accuracy: 0.5556 - val_loss: 1.4560 - val_accuracy: 0.4917\n",
            "Epoch 71/100\n",
            "40000/40000 [==============================] - 2s 61us/step - loss: 1.2411 - accuracy: 0.5618 - val_loss: 1.4674 - val_accuracy: 0.4805\n",
            "Epoch 72/100\n",
            "40000/40000 [==============================] - 3s 63us/step - loss: 1.2436 - accuracy: 0.5599 - val_loss: 1.4650 - val_accuracy: 0.4839\n",
            "Epoch 73/100\n",
            "40000/40000 [==============================] - 2s 62us/step - loss: 1.2363 - accuracy: 0.5615 - val_loss: 1.4407 - val_accuracy: 0.4947\n",
            "Epoch 74/100\n",
            "40000/40000 [==============================] - 2s 61us/step - loss: 1.2326 - accuracy: 0.5623 - val_loss: 1.4473 - val_accuracy: 0.4922\n",
            "Epoch 75/100\n",
            "40000/40000 [==============================] - 2s 60us/step - loss: 1.2367 - accuracy: 0.5601 - val_loss: 1.5039 - val_accuracy: 0.4746\n",
            "Epoch 76/100\n",
            "40000/40000 [==============================] - 2s 61us/step - loss: 1.2317 - accuracy: 0.5627 - val_loss: 1.4576 - val_accuracy: 0.4981\n",
            "Epoch 77/100\n",
            "40000/40000 [==============================] - 2s 61us/step - loss: 1.2177 - accuracy: 0.5690 - val_loss: 1.4431 - val_accuracy: 0.4954\n",
            "Epoch 78/100\n",
            "40000/40000 [==============================] - 2s 60us/step - loss: 1.2167 - accuracy: 0.5675 - val_loss: 1.4917 - val_accuracy: 0.4826\n",
            "Epoch 79/100\n",
            "40000/40000 [==============================] - 2s 61us/step - loss: 1.2119 - accuracy: 0.5707 - val_loss: 1.4576 - val_accuracy: 0.4932\n",
            "Epoch 80/100\n",
            "40000/40000 [==============================] - 2s 61us/step - loss: 1.2156 - accuracy: 0.5702 - val_loss: 1.4528 - val_accuracy: 0.4888\n",
            "Epoch 81/100\n",
            "40000/40000 [==============================] - 2s 61us/step - loss: 1.2174 - accuracy: 0.5677 - val_loss: 1.4540 - val_accuracy: 0.4941\n",
            "Epoch 82/100\n",
            "40000/40000 [==============================] - 2s 60us/step - loss: 1.2107 - accuracy: 0.5697 - val_loss: 1.4406 - val_accuracy: 0.4966\n",
            "Epoch 83/100\n",
            "40000/40000 [==============================] - 2s 60us/step - loss: 1.2058 - accuracy: 0.5720 - val_loss: 1.4501 - val_accuracy: 0.4911\n",
            "Epoch 84/100\n",
            "40000/40000 [==============================] - 2s 60us/step - loss: 1.2072 - accuracy: 0.5721 - val_loss: 1.4410 - val_accuracy: 0.4936\n",
            "Epoch 85/100\n",
            "40000/40000 [==============================] - 2s 61us/step - loss: 1.2045 - accuracy: 0.5724 - val_loss: 1.4557 - val_accuracy: 0.4936\n",
            "Epoch 86/100\n",
            "40000/40000 [==============================] - 2s 60us/step - loss: 1.1908 - accuracy: 0.5785 - val_loss: 1.4665 - val_accuracy: 0.4920\n",
            "Epoch 87/100\n",
            "40000/40000 [==============================] - 2s 61us/step - loss: 1.1996 - accuracy: 0.5740 - val_loss: 1.4532 - val_accuracy: 0.4937\n",
            "Epoch 88/100\n",
            "40000/40000 [==============================] - 2s 60us/step - loss: 1.1951 - accuracy: 0.5749 - val_loss: 1.4715 - val_accuracy: 0.4888\n",
            "Epoch 89/100\n",
            "40000/40000 [==============================] - 2s 62us/step - loss: 1.1913 - accuracy: 0.5756 - val_loss: 1.4622 - val_accuracy: 0.4935\n",
            "Epoch 90/100\n",
            "40000/40000 [==============================] - 2s 61us/step - loss: 1.1826 - accuracy: 0.5826 - val_loss: 1.4539 - val_accuracy: 0.4934\n",
            "Epoch 91/100\n",
            "40000/40000 [==============================] - 2s 61us/step - loss: 1.1874 - accuracy: 0.5780 - val_loss: 1.4495 - val_accuracy: 0.4973\n",
            "Epoch 92/100\n",
            "40000/40000 [==============================] - 2s 60us/step - loss: 1.1891 - accuracy: 0.5766 - val_loss: 1.4757 - val_accuracy: 0.4866\n",
            "Epoch 93/100\n",
            "40000/40000 [==============================] - 2s 61us/step - loss: 1.1812 - accuracy: 0.5806 - val_loss: 1.4674 - val_accuracy: 0.4913\n",
            "Epoch 94/100\n",
            "40000/40000 [==============================] - 2s 61us/step - loss: 1.1721 - accuracy: 0.5823 - val_loss: 1.4604 - val_accuracy: 0.4885\n",
            "Epoch 95/100\n",
            "40000/40000 [==============================] - 2s 61us/step - loss: 1.1830 - accuracy: 0.5789 - val_loss: 1.4945 - val_accuracy: 0.4845\n",
            "Epoch 96/100\n",
            "40000/40000 [==============================] - 2s 61us/step - loss: 1.1863 - accuracy: 0.5788 - val_loss: 1.4961 - val_accuracy: 0.4827\n",
            "Epoch 97/100\n",
            "40000/40000 [==============================] - 2s 60us/step - loss: 1.1862 - accuracy: 0.5786 - val_loss: 1.4878 - val_accuracy: 0.4883\n",
            "Epoch 98/100\n",
            "40000/40000 [==============================] - 2s 60us/step - loss: 1.1707 - accuracy: 0.5841 - val_loss: 1.4991 - val_accuracy: 0.4816\n",
            "Epoch 99/100\n",
            "40000/40000 [==============================] - 2s 61us/step - loss: 1.1646 - accuracy: 0.5871 - val_loss: 1.4787 - val_accuracy: 0.4898\n",
            "Epoch 100/100\n",
            "40000/40000 [==============================] - 2s 60us/step - loss: 1.1626 - accuracy: 0.5871 - val_loss: 1.4694 - val_accuracy: 0.4900\n"
          ],
          "name": "stdout"
        },
        {
          "output_type": "execute_result",
          "data": {
            "text/plain": [
              "<keras.callbacks.callbacks.History at 0x7f1f8c932be0>"
            ]
          },
          "metadata": {
            "tags": []
          },
          "execution_count": 87
        }
      ]
    },
    {
      "cell_type": "code",
      "metadata": {
        "id": "QlHAnNsZGNcz",
        "colab_type": "code",
        "colab": {
          "base_uri": "https://localhost:8080/",
          "height": 1000
        },
        "outputId": "8a75164b-0be6-422c-fdeb-fb0f4137217d"
      },
      "source": [
        "# Model 2 - Second Version --> Using dropout technique + reducing epochs + using a large dataset\n",
        "samples_per_batch = 1000 # will catch 1000 examples each epoch\n",
        "nr_epochs = 100\n",
        "\n",
        "model_2.fit(x= x_train, \n",
        "            y= y_train, \n",
        "            batch_size= samples_per_batch, \n",
        "            epochs=nr_epochs,\n",
        "            validation_data=(X_validation, y_validation))"
      ],
      "execution_count": 88,
      "outputs": [
        {
          "output_type": "stream",
          "text": [
            "Train on 40000 samples, validate on 10000 samples\n",
            "Epoch 1/100\n",
            "40000/40000 [==============================] - 3s 87us/step - loss: 2.0056 - accuracy: 0.2912 - val_loss: 1.9095 - val_accuracy: 0.3259\n",
            "Epoch 2/100\n",
            "40000/40000 [==============================] - 4s 88us/step - loss: 1.9166 - accuracy: 0.3140 - val_loss: 1.8570 - val_accuracy: 0.3398\n",
            "Epoch 3/100\n",
            "40000/40000 [==============================] - 5s 116us/step - loss: 1.8624 - accuracy: 0.3277 - val_loss: 1.8273 - val_accuracy: 0.3406\n",
            "Epoch 4/100\n",
            "40000/40000 [==============================] - 4s 101us/step - loss: 1.8215 - accuracy: 0.3463 - val_loss: 1.7862 - val_accuracy: 0.3581\n",
            "Epoch 5/100\n",
            "40000/40000 [==============================] - 4s 89us/step - loss: 1.7903 - accuracy: 0.3568 - val_loss: 1.7497 - val_accuracy: 0.3712\n",
            "Epoch 6/100\n",
            "40000/40000 [==============================] - 4s 88us/step - loss: 1.7634 - accuracy: 0.3689 - val_loss: 1.7458 - val_accuracy: 0.3743\n",
            "Epoch 7/100\n",
            "40000/40000 [==============================] - 4s 88us/step - loss: 1.7387 - accuracy: 0.3790 - val_loss: 1.7077 - val_accuracy: 0.3877\n",
            "Epoch 8/100\n",
            "40000/40000 [==============================] - 3s 87us/step - loss: 1.7175 - accuracy: 0.3875 - val_loss: 1.6946 - val_accuracy: 0.3925\n",
            "Epoch 9/100\n",
            "40000/40000 [==============================] - 4s 88us/step - loss: 1.7077 - accuracy: 0.3916 - val_loss: 1.6846 - val_accuracy: 0.3900\n",
            "Epoch 10/100\n",
            "40000/40000 [==============================] - 4s 89us/step - loss: 1.6915 - accuracy: 0.3967 - val_loss: 1.6741 - val_accuracy: 0.3986\n",
            "Epoch 11/100\n",
            "40000/40000 [==============================] - 4s 88us/step - loss: 1.6765 - accuracy: 0.4007 - val_loss: 1.6573 - val_accuracy: 0.4093\n",
            "Epoch 12/100\n",
            "40000/40000 [==============================] - 3s 87us/step - loss: 1.6594 - accuracy: 0.4076 - val_loss: 1.6452 - val_accuracy: 0.4147\n",
            "Epoch 13/100\n",
            "40000/40000 [==============================] - 3s 87us/step - loss: 1.6486 - accuracy: 0.4125 - val_loss: 1.6290 - val_accuracy: 0.4167\n",
            "Epoch 14/100\n",
            "40000/40000 [==============================] - 3s 87us/step - loss: 1.6391 - accuracy: 0.4159 - val_loss: 1.6229 - val_accuracy: 0.4217\n",
            "Epoch 15/100\n",
            "40000/40000 [==============================] - 3s 87us/step - loss: 1.6237 - accuracy: 0.4194 - val_loss: 1.6368 - val_accuracy: 0.4096\n",
            "Epoch 16/100\n",
            "40000/40000 [==============================] - 4s 88us/step - loss: 1.6299 - accuracy: 0.4189 - val_loss: 1.6065 - val_accuracy: 0.4249\n",
            "Epoch 17/100\n",
            "40000/40000 [==============================] - 3s 87us/step - loss: 1.6122 - accuracy: 0.4255 - val_loss: 1.6061 - val_accuracy: 0.4265\n",
            "Epoch 18/100\n",
            "40000/40000 [==============================] - 4s 88us/step - loss: 1.6109 - accuracy: 0.4278 - val_loss: 1.5923 - val_accuracy: 0.4324\n",
            "Epoch 19/100\n",
            "40000/40000 [==============================] - 4s 88us/step - loss: 1.6060 - accuracy: 0.4266 - val_loss: 1.5895 - val_accuracy: 0.4360\n",
            "Epoch 20/100\n",
            "40000/40000 [==============================] - 3s 86us/step - loss: 1.5938 - accuracy: 0.4318 - val_loss: 1.5901 - val_accuracy: 0.4341\n",
            "Epoch 21/100\n",
            "40000/40000 [==============================] - 3s 87us/step - loss: 1.5837 - accuracy: 0.4338 - val_loss: 1.5776 - val_accuracy: 0.4328\n",
            "Epoch 22/100\n",
            "40000/40000 [==============================] - 4s 88us/step - loss: 1.5794 - accuracy: 0.4376 - val_loss: 1.6008 - val_accuracy: 0.4207\n",
            "Epoch 23/100\n",
            "40000/40000 [==============================] - 4s 88us/step - loss: 1.5836 - accuracy: 0.4343 - val_loss: 1.5721 - val_accuracy: 0.4388\n",
            "Epoch 24/100\n",
            "40000/40000 [==============================] - 3s 87us/step - loss: 1.5695 - accuracy: 0.4404 - val_loss: 1.6057 - val_accuracy: 0.4269\n",
            "Epoch 25/100\n",
            "40000/40000 [==============================] - 4s 88us/step - loss: 1.5702 - accuracy: 0.4396 - val_loss: 1.5577 - val_accuracy: 0.4428\n",
            "Epoch 26/100\n",
            "40000/40000 [==============================] - 4s 88us/step - loss: 1.5533 - accuracy: 0.4454 - val_loss: 1.5533 - val_accuracy: 0.4502\n",
            "Epoch 27/100\n",
            "40000/40000 [==============================] - 4s 88us/step - loss: 1.5478 - accuracy: 0.4495 - val_loss: 1.5581 - val_accuracy: 0.4391\n",
            "Epoch 28/100\n",
            "40000/40000 [==============================] - 4s 88us/step - loss: 1.5446 - accuracy: 0.4507 - val_loss: 1.5510 - val_accuracy: 0.4439\n",
            "Epoch 29/100\n",
            "40000/40000 [==============================] - 4s 88us/step - loss: 1.5399 - accuracy: 0.4509 - val_loss: 1.5495 - val_accuracy: 0.4461\n",
            "Epoch 30/100\n",
            "40000/40000 [==============================] - 3s 87us/step - loss: 1.5368 - accuracy: 0.4520 - val_loss: 1.6022 - val_accuracy: 0.4268\n",
            "Epoch 31/100\n",
            "40000/40000 [==============================] - 4s 88us/step - loss: 1.5446 - accuracy: 0.4481 - val_loss: 1.5264 - val_accuracy: 0.4539\n",
            "Epoch 32/100\n",
            "40000/40000 [==============================] - 4s 88us/step - loss: 1.5202 - accuracy: 0.4548 - val_loss: 1.5447 - val_accuracy: 0.4435\n",
            "Epoch 33/100\n",
            "40000/40000 [==============================] - 4s 88us/step - loss: 1.5122 - accuracy: 0.4588 - val_loss: 1.5155 - val_accuracy: 0.4611\n",
            "Epoch 34/100\n",
            "40000/40000 [==============================] - 3s 87us/step - loss: 1.5053 - accuracy: 0.4637 - val_loss: 1.5268 - val_accuracy: 0.4556\n",
            "Epoch 35/100\n",
            "40000/40000 [==============================] - 4s 88us/step - loss: 1.5101 - accuracy: 0.4608 - val_loss: 1.5207 - val_accuracy: 0.4560\n",
            "Epoch 36/100\n",
            "40000/40000 [==============================] - 4s 89us/step - loss: 1.5053 - accuracy: 0.4629 - val_loss: 1.5200 - val_accuracy: 0.4595\n",
            "Epoch 37/100\n",
            "40000/40000 [==============================] - 4s 88us/step - loss: 1.5004 - accuracy: 0.4650 - val_loss: 1.5135 - val_accuracy: 0.4567\n",
            "Epoch 38/100\n",
            "40000/40000 [==============================] - 3s 87us/step - loss: 1.4894 - accuracy: 0.4672 - val_loss: 1.5133 - val_accuracy: 0.4578\n",
            "Epoch 39/100\n",
            "40000/40000 [==============================] - 3s 87us/step - loss: 1.4864 - accuracy: 0.4687 - val_loss: 1.5048 - val_accuracy: 0.4650\n",
            "Epoch 40/100\n",
            "40000/40000 [==============================] - 3s 87us/step - loss: 1.4829 - accuracy: 0.4708 - val_loss: 1.5277 - val_accuracy: 0.4558\n",
            "Epoch 41/100\n",
            "40000/40000 [==============================] - 4s 88us/step - loss: 1.4787 - accuracy: 0.4698 - val_loss: 1.5055 - val_accuracy: 0.4638\n",
            "Epoch 42/100\n",
            "40000/40000 [==============================] - 3s 87us/step - loss: 1.4802 - accuracy: 0.4713 - val_loss: 1.4947 - val_accuracy: 0.4697\n",
            "Epoch 43/100\n",
            "40000/40000 [==============================] - 3s 87us/step - loss: 1.4710 - accuracy: 0.4770 - val_loss: 1.5036 - val_accuracy: 0.4586\n",
            "Epoch 44/100\n",
            "40000/40000 [==============================] - 4s 88us/step - loss: 1.4667 - accuracy: 0.4760 - val_loss: 1.4863 - val_accuracy: 0.4692\n",
            "Epoch 45/100\n",
            "40000/40000 [==============================] - 4s 88us/step - loss: 1.4617 - accuracy: 0.4781 - val_loss: 1.4883 - val_accuracy: 0.4678\n",
            "Epoch 46/100\n",
            "40000/40000 [==============================] - 3s 87us/step - loss: 1.4480 - accuracy: 0.4824 - val_loss: 1.4857 - val_accuracy: 0.4717\n",
            "Epoch 47/100\n",
            "40000/40000 [==============================] - 3s 87us/step - loss: 1.4616 - accuracy: 0.4799 - val_loss: 1.4977 - val_accuracy: 0.4645\n",
            "Epoch 48/100\n",
            "40000/40000 [==============================] - 4s 88us/step - loss: 1.4408 - accuracy: 0.4870 - val_loss: 1.4728 - val_accuracy: 0.4703\n",
            "Epoch 49/100\n",
            "40000/40000 [==============================] - 4s 88us/step - loss: 1.4453 - accuracy: 0.4827 - val_loss: 1.4841 - val_accuracy: 0.4679\n",
            "Epoch 50/100\n",
            "40000/40000 [==============================] - 4s 88us/step - loss: 1.4459 - accuracy: 0.4841 - val_loss: 1.4824 - val_accuracy: 0.4673\n",
            "Epoch 51/100\n",
            "40000/40000 [==============================] - 4s 88us/step - loss: 1.4465 - accuracy: 0.4832 - val_loss: 1.5108 - val_accuracy: 0.4610\n",
            "Epoch 52/100\n",
            "40000/40000 [==============================] - 4s 88us/step - loss: 1.4378 - accuracy: 0.4867 - val_loss: 1.4621 - val_accuracy: 0.4808\n",
            "Epoch 53/100\n",
            "40000/40000 [==============================] - 4s 88us/step - loss: 1.4250 - accuracy: 0.4925 - val_loss: 1.4726 - val_accuracy: 0.4736\n",
            "Epoch 54/100\n",
            "40000/40000 [==============================] - 4s 88us/step - loss: 1.4272 - accuracy: 0.4903 - val_loss: 1.4973 - val_accuracy: 0.4647\n",
            "Epoch 55/100\n",
            "40000/40000 [==============================] - 4s 88us/step - loss: 1.4190 - accuracy: 0.4918 - val_loss: 1.4732 - val_accuracy: 0.4775\n",
            "Epoch 56/100\n",
            "40000/40000 [==============================] - 3s 87us/step - loss: 1.4178 - accuracy: 0.4933 - val_loss: 1.4671 - val_accuracy: 0.4819\n",
            "Epoch 57/100\n",
            "40000/40000 [==============================] - 4s 88us/step - loss: 1.4149 - accuracy: 0.4937 - val_loss: 1.4562 - val_accuracy: 0.4809\n",
            "Epoch 58/100\n",
            "40000/40000 [==============================] - 3s 87us/step - loss: 1.4057 - accuracy: 0.4963 - val_loss: 1.4748 - val_accuracy: 0.4764\n",
            "Epoch 59/100\n",
            "40000/40000 [==============================] - 3s 87us/step - loss: 1.4130 - accuracy: 0.4945 - val_loss: 1.4626 - val_accuracy: 0.4825\n",
            "Epoch 60/100\n",
            "40000/40000 [==============================] - 4s 88us/step - loss: 1.4134 - accuracy: 0.4956 - val_loss: 1.4693 - val_accuracy: 0.4779\n",
            "Epoch 61/100\n",
            "40000/40000 [==============================] - 3s 87us/step - loss: 1.4073 - accuracy: 0.4955 - val_loss: 1.4569 - val_accuracy: 0.4802\n",
            "Epoch 62/100\n",
            "40000/40000 [==============================] - 4s 88us/step - loss: 1.4037 - accuracy: 0.4948 - val_loss: 1.4633 - val_accuracy: 0.4837\n",
            "Epoch 63/100\n",
            "40000/40000 [==============================] - 4s 88us/step - loss: 1.3965 - accuracy: 0.5002 - val_loss: 1.4462 - val_accuracy: 0.4874\n",
            "Epoch 64/100\n",
            "40000/40000 [==============================] - 3s 87us/step - loss: 1.3997 - accuracy: 0.4985 - val_loss: 1.4712 - val_accuracy: 0.4736\n",
            "Epoch 65/100\n",
            "40000/40000 [==============================] - 4s 89us/step - loss: 1.3889 - accuracy: 0.5019 - val_loss: 1.4692 - val_accuracy: 0.4769\n",
            "Epoch 66/100\n",
            "40000/40000 [==============================] - 4s 89us/step - loss: 1.3917 - accuracy: 0.5005 - val_loss: 1.4617 - val_accuracy: 0.4795\n",
            "Epoch 67/100\n",
            "40000/40000 [==============================] - 3s 87us/step - loss: 1.3878 - accuracy: 0.5023 - val_loss: 1.4744 - val_accuracy: 0.4745\n",
            "Epoch 68/100\n",
            "40000/40000 [==============================] - 4s 90us/step - loss: 1.3885 - accuracy: 0.5035 - val_loss: 1.4557 - val_accuracy: 0.4857\n",
            "Epoch 69/100\n",
            "40000/40000 [==============================] - 4s 89us/step - loss: 1.3851 - accuracy: 0.5050 - val_loss: 1.4620 - val_accuracy: 0.4819\n",
            "Epoch 70/100\n",
            "40000/40000 [==============================] - 4s 88us/step - loss: 1.3867 - accuracy: 0.5024 - val_loss: 1.4503 - val_accuracy: 0.4849\n",
            "Epoch 71/100\n",
            "40000/40000 [==============================] - 3s 87us/step - loss: 1.3768 - accuracy: 0.5075 - val_loss: 1.4424 - val_accuracy: 0.4834\n",
            "Epoch 72/100\n",
            "40000/40000 [==============================] - 4s 88us/step - loss: 1.3869 - accuracy: 0.5008 - val_loss: 1.4543 - val_accuracy: 0.4849\n",
            "Epoch 73/100\n",
            "40000/40000 [==============================] - 4s 88us/step - loss: 1.3819 - accuracy: 0.5033 - val_loss: 1.4432 - val_accuracy: 0.4854\n",
            "Epoch 74/100\n",
            "40000/40000 [==============================] - 4s 88us/step - loss: 1.3810 - accuracy: 0.5051 - val_loss: 1.4450 - val_accuracy: 0.4882\n",
            "Epoch 75/100\n",
            "40000/40000 [==============================] - 4s 88us/step - loss: 1.3715 - accuracy: 0.5061 - val_loss: 1.4420 - val_accuracy: 0.4938\n",
            "Epoch 76/100\n",
            "40000/40000 [==============================] - 3s 87us/step - loss: 1.3723 - accuracy: 0.5051 - val_loss: 1.4390 - val_accuracy: 0.4918\n",
            "Epoch 77/100\n",
            "40000/40000 [==============================] - 4s 88us/step - loss: 1.3668 - accuracy: 0.5127 - val_loss: 1.4854 - val_accuracy: 0.4683\n",
            "Epoch 78/100\n",
            "40000/40000 [==============================] - 4s 88us/step - loss: 1.3813 - accuracy: 0.5056 - val_loss: 1.4397 - val_accuracy: 0.4880\n",
            "Epoch 79/100\n",
            "40000/40000 [==============================] - 3s 87us/step - loss: 1.3631 - accuracy: 0.5104 - val_loss: 1.4487 - val_accuracy: 0.4860\n",
            "Epoch 80/100\n",
            "40000/40000 [==============================] - 3s 87us/step - loss: 1.3651 - accuracy: 0.5099 - val_loss: 1.4393 - val_accuracy: 0.4875\n",
            "Epoch 81/100\n",
            "40000/40000 [==============================] - 4s 88us/step - loss: 1.3645 - accuracy: 0.5120 - val_loss: 1.4429 - val_accuracy: 0.4901\n",
            "Epoch 82/100\n",
            "40000/40000 [==============================] - 4s 88us/step - loss: 1.3595 - accuracy: 0.5125 - val_loss: 1.4316 - val_accuracy: 0.4973\n",
            "Epoch 83/100\n",
            "40000/40000 [==============================] - 3s 87us/step - loss: 1.3484 - accuracy: 0.5153 - val_loss: 1.4539 - val_accuracy: 0.4842\n",
            "Epoch 84/100\n",
            "40000/40000 [==============================] - 3s 87us/step - loss: 1.3584 - accuracy: 0.5108 - val_loss: 1.4474 - val_accuracy: 0.4924\n",
            "Epoch 85/100\n",
            "40000/40000 [==============================] - 3s 87us/step - loss: 1.3575 - accuracy: 0.5118 - val_loss: 1.4499 - val_accuracy: 0.4813\n",
            "Epoch 86/100\n",
            "40000/40000 [==============================] - 3s 87us/step - loss: 1.3539 - accuracy: 0.5148 - val_loss: 1.4401 - val_accuracy: 0.4930\n",
            "Epoch 87/100\n",
            "40000/40000 [==============================] - 4s 88us/step - loss: 1.3561 - accuracy: 0.5140 - val_loss: 1.4428 - val_accuracy: 0.4862\n",
            "Epoch 88/100\n",
            "40000/40000 [==============================] - 3s 87us/step - loss: 1.3494 - accuracy: 0.5167 - val_loss: 1.4449 - val_accuracy: 0.4886\n",
            "Epoch 89/100\n",
            "40000/40000 [==============================] - 3s 87us/step - loss: 1.3457 - accuracy: 0.5180 - val_loss: 1.4533 - val_accuracy: 0.4822\n",
            "Epoch 90/100\n",
            "40000/40000 [==============================] - 3s 87us/step - loss: 1.3512 - accuracy: 0.5140 - val_loss: 1.4387 - val_accuracy: 0.4923\n",
            "Epoch 91/100\n",
            "40000/40000 [==============================] - 3s 87us/step - loss: 1.3413 - accuracy: 0.5167 - val_loss: 1.4325 - val_accuracy: 0.4943\n",
            "Epoch 92/100\n",
            "40000/40000 [==============================] - 4s 89us/step - loss: 1.3452 - accuracy: 0.5151 - val_loss: 1.4404 - val_accuracy: 0.4931\n",
            "Epoch 93/100\n",
            "40000/40000 [==============================] - 4s 89us/step - loss: 1.3512 - accuracy: 0.5168 - val_loss: 1.4502 - val_accuracy: 0.4859\n",
            "Epoch 94/100\n",
            "40000/40000 [==============================] - 4s 90us/step - loss: 1.3419 - accuracy: 0.5175 - val_loss: 1.4529 - val_accuracy: 0.4831\n",
            "Epoch 95/100\n",
            "40000/40000 [==============================] - 4s 88us/step - loss: 1.3356 - accuracy: 0.5222 - val_loss: 1.4316 - val_accuracy: 0.4903\n",
            "Epoch 96/100\n",
            "40000/40000 [==============================] - 3s 87us/step - loss: 1.3327 - accuracy: 0.5206 - val_loss: 1.4679 - val_accuracy: 0.4816\n",
            "Epoch 97/100\n",
            "40000/40000 [==============================] - 3s 87us/step - loss: 1.3417 - accuracy: 0.5190 - val_loss: 1.4319 - val_accuracy: 0.4907\n",
            "Epoch 98/100\n",
            "40000/40000 [==============================] - 3s 87us/step - loss: 1.3362 - accuracy: 0.5197 - val_loss: 1.4369 - val_accuracy: 0.4945\n",
            "Epoch 99/100\n",
            "40000/40000 [==============================] - 4s 88us/step - loss: 1.3326 - accuracy: 0.5215 - val_loss: 1.4229 - val_accuracy: 0.4968\n",
            "Epoch 100/100\n",
            "40000/40000 [==============================] - 3s 87us/step - loss: 1.3286 - accuracy: 0.5233 - val_loss: 1.4255 - val_accuracy: 0.4987\n"
          ],
          "name": "stdout"
        },
        {
          "output_type": "execute_result",
          "data": {
            "text/plain": [
              "<keras.callbacks.callbacks.History at 0x7f1f8c93d7f0>"
            ]
          },
          "metadata": {
            "tags": []
          },
          "execution_count": 88
        }
      ]
    },
    {
      "cell_type": "code",
      "metadata": {
        "id": "uRQoO_6hIzKs",
        "colab_type": "code",
        "colab": {
          "base_uri": "https://localhost:8080/",
          "height": 1000
        },
        "outputId": "baef49c8-068a-436f-ab40-9021dc30d869"
      },
      "source": [
        "# Model 3 --> Using 2x dropout technique + reducing epochs + using a large dataset\n",
        "samples_per_batch = 1000 # will catch 1000 examples each epoch\n",
        "nr_epochs = 100\n",
        "\n",
        "model_2.fit(x= x_train, \n",
        "            y= y_train, \n",
        "            batch_size= samples_per_batch, \n",
        "            epochs=nr_epochs,\n",
        "            validation_data=(X_validation, y_validation))"
      ],
      "execution_count": 89,
      "outputs": [
        {
          "output_type": "stream",
          "text": [
            "Train on 40000 samples, validate on 10000 samples\n",
            "Epoch 1/100\n",
            "40000/40000 [==============================] - 4s 88us/step - loss: 1.3313 - accuracy: 0.5228 - val_loss: 1.4430 - val_accuracy: 0.4850\n",
            "Epoch 2/100\n",
            "40000/40000 [==============================] - 3s 87us/step - loss: 1.3333 - accuracy: 0.5213 - val_loss: 1.4322 - val_accuracy: 0.4931\n",
            "Epoch 3/100\n",
            "40000/40000 [==============================] - 4s 88us/step - loss: 1.3269 - accuracy: 0.5207 - val_loss: 1.4241 - val_accuracy: 0.4943\n",
            "Epoch 4/100\n",
            "40000/40000 [==============================] - 4s 88us/step - loss: 1.3297 - accuracy: 0.5227 - val_loss: 1.4419 - val_accuracy: 0.4917\n",
            "Epoch 5/100\n",
            "40000/40000 [==============================] - 3s 87us/step - loss: 1.3290 - accuracy: 0.5247 - val_loss: 1.4240 - val_accuracy: 0.4934\n",
            "Epoch 6/100\n",
            "40000/40000 [==============================] - 3s 87us/step - loss: 1.3219 - accuracy: 0.5257 - val_loss: 1.4271 - val_accuracy: 0.4984\n",
            "Epoch 7/100\n",
            "40000/40000 [==============================] - 4s 88us/step - loss: 1.3224 - accuracy: 0.5271 - val_loss: 1.4329 - val_accuracy: 0.4955\n",
            "Epoch 8/100\n",
            "40000/40000 [==============================] - 3s 87us/step - loss: 1.3199 - accuracy: 0.5252 - val_loss: 1.4274 - val_accuracy: 0.5012\n",
            "Epoch 9/100\n",
            "40000/40000 [==============================] - 3s 87us/step - loss: 1.3149 - accuracy: 0.5241 - val_loss: 1.4231 - val_accuracy: 0.4945\n",
            "Epoch 10/100\n",
            "40000/40000 [==============================] - 4s 88us/step - loss: 1.3151 - accuracy: 0.5293 - val_loss: 1.4234 - val_accuracy: 0.4972\n",
            "Epoch 11/100\n",
            "40000/40000 [==============================] - 4s 88us/step - loss: 1.3288 - accuracy: 0.5196 - val_loss: 1.4241 - val_accuracy: 0.4953\n",
            "Epoch 12/100\n",
            "40000/40000 [==============================] - 4s 88us/step - loss: 1.3159 - accuracy: 0.5264 - val_loss: 1.4263 - val_accuracy: 0.5000\n",
            "Epoch 13/100\n",
            "40000/40000 [==============================] - 4s 88us/step - loss: 1.3185 - accuracy: 0.5256 - val_loss: 1.4452 - val_accuracy: 0.4882\n",
            "Epoch 14/100\n",
            "40000/40000 [==============================] - 3s 87us/step - loss: 1.3162 - accuracy: 0.5264 - val_loss: 1.4235 - val_accuracy: 0.4985\n",
            "Epoch 15/100\n",
            "40000/40000 [==============================] - 4s 88us/step - loss: 1.3140 - accuracy: 0.5283 - val_loss: 1.4356 - val_accuracy: 0.4928\n",
            "Epoch 16/100\n",
            "40000/40000 [==============================] - 4s 111us/step - loss: 1.3140 - accuracy: 0.5286 - val_loss: 1.4236 - val_accuracy: 0.4967\n",
            "Epoch 17/100\n",
            "40000/40000 [==============================] - 4s 88us/step - loss: 1.3070 - accuracy: 0.5317 - val_loss: 1.4155 - val_accuracy: 0.4969\n",
            "Epoch 18/100\n",
            "40000/40000 [==============================] - 3s 87us/step - loss: 1.3009 - accuracy: 0.5341 - val_loss: 1.4286 - val_accuracy: 0.4937\n",
            "Epoch 19/100\n",
            "40000/40000 [==============================] - 4s 88us/step - loss: 1.3047 - accuracy: 0.5300 - val_loss: 1.4213 - val_accuracy: 0.4985\n",
            "Epoch 20/100\n",
            "40000/40000 [==============================] - 3s 87us/step - loss: 1.3027 - accuracy: 0.5326 - val_loss: 1.4298 - val_accuracy: 0.4980\n",
            "Epoch 21/100\n",
            "40000/40000 [==============================] - 3s 87us/step - loss: 1.3129 - accuracy: 0.5263 - val_loss: 1.4413 - val_accuracy: 0.4930\n",
            "Epoch 22/100\n",
            "40000/40000 [==============================] - 4s 88us/step - loss: 1.3087 - accuracy: 0.5293 - val_loss: 1.4502 - val_accuracy: 0.4864\n",
            "Epoch 23/100\n",
            "40000/40000 [==============================] - 4s 88us/step - loss: 1.3025 - accuracy: 0.5290 - val_loss: 1.4226 - val_accuracy: 0.4971\n",
            "Epoch 24/100\n",
            "40000/40000 [==============================] - 3s 87us/step - loss: 1.2999 - accuracy: 0.5330 - val_loss: 1.4274 - val_accuracy: 0.4967\n",
            "Epoch 25/100\n",
            "40000/40000 [==============================] - 4s 88us/step - loss: 1.3010 - accuracy: 0.5290 - val_loss: 1.4138 - val_accuracy: 0.5013\n",
            "Epoch 26/100\n",
            "40000/40000 [==============================] - 3s 87us/step - loss: 1.3003 - accuracy: 0.5326 - val_loss: 1.4299 - val_accuracy: 0.4969\n",
            "Epoch 27/100\n",
            "40000/40000 [==============================] - 3s 87us/step - loss: 1.3062 - accuracy: 0.5316 - val_loss: 1.4504 - val_accuracy: 0.4863\n",
            "Epoch 28/100\n",
            "40000/40000 [==============================] - 3s 87us/step - loss: 1.3018 - accuracy: 0.5316 - val_loss: 1.4237 - val_accuracy: 0.4931\n",
            "Epoch 29/100\n",
            "40000/40000 [==============================] - 3s 87us/step - loss: 1.2947 - accuracy: 0.5351 - val_loss: 1.4061 - val_accuracy: 0.5058\n",
            "Epoch 30/100\n",
            "40000/40000 [==============================] - 4s 88us/step - loss: 1.2939 - accuracy: 0.5361 - val_loss: 1.4222 - val_accuracy: 0.5013\n",
            "Epoch 31/100\n",
            "40000/40000 [==============================] - 3s 87us/step - loss: 1.2913 - accuracy: 0.5351 - val_loss: 1.4212 - val_accuracy: 0.4990\n",
            "Epoch 32/100\n",
            "40000/40000 [==============================] - 3s 86us/step - loss: 1.2925 - accuracy: 0.5353 - val_loss: 1.4194 - val_accuracy: 0.4978\n",
            "Epoch 33/100\n",
            "40000/40000 [==============================] - 4s 88us/step - loss: 1.2954 - accuracy: 0.5305 - val_loss: 1.4180 - val_accuracy: 0.4970\n",
            "Epoch 34/100\n",
            "40000/40000 [==============================] - 3s 87us/step - loss: 1.2921 - accuracy: 0.5349 - val_loss: 1.4363 - val_accuracy: 0.4942\n",
            "Epoch 35/100\n",
            "40000/40000 [==============================] - 4s 88us/step - loss: 1.2944 - accuracy: 0.5323 - val_loss: 1.4166 - val_accuracy: 0.5019\n",
            "Epoch 36/100\n",
            "40000/40000 [==============================] - 3s 87us/step - loss: 1.2987 - accuracy: 0.5344 - val_loss: 1.4358 - val_accuracy: 0.4944\n",
            "Epoch 37/100\n",
            "40000/40000 [==============================] - 3s 87us/step - loss: 1.2874 - accuracy: 0.5402 - val_loss: 1.4109 - val_accuracy: 0.5025\n",
            "Epoch 38/100\n",
            "40000/40000 [==============================] - 3s 87us/step - loss: 1.2865 - accuracy: 0.5385 - val_loss: 1.4412 - val_accuracy: 0.4939\n",
            "Epoch 39/100\n",
            "40000/40000 [==============================] - 4s 88us/step - loss: 1.2868 - accuracy: 0.5370 - val_loss: 1.4292 - val_accuracy: 0.4895\n",
            "Epoch 40/100\n",
            "40000/40000 [==============================] - 4s 88us/step - loss: 1.2871 - accuracy: 0.5365 - val_loss: 1.4253 - val_accuracy: 0.4965\n",
            "Epoch 41/100\n",
            "40000/40000 [==============================] - 3s 87us/step - loss: 1.2839 - accuracy: 0.5365 - val_loss: 1.4151 - val_accuracy: 0.5007\n",
            "Epoch 42/100\n",
            "40000/40000 [==============================] - 3s 87us/step - loss: 1.2853 - accuracy: 0.5366 - val_loss: 1.4352 - val_accuracy: 0.4950\n",
            "Epoch 43/100\n",
            "40000/40000 [==============================] - 3s 86us/step - loss: 1.2799 - accuracy: 0.5386 - val_loss: 1.4072 - val_accuracy: 0.5020\n",
            "Epoch 44/100\n",
            "40000/40000 [==============================] - 3s 87us/step - loss: 1.2828 - accuracy: 0.5361 - val_loss: 1.4171 - val_accuracy: 0.5006\n",
            "Epoch 45/100\n",
            "40000/40000 [==============================] - 4s 88us/step - loss: 1.2804 - accuracy: 0.5384 - val_loss: 1.4183 - val_accuracy: 0.5003\n",
            "Epoch 46/100\n",
            "40000/40000 [==============================] - 3s 87us/step - loss: 1.2764 - accuracy: 0.5400 - val_loss: 1.4183 - val_accuracy: 0.5024\n",
            "Epoch 47/100\n",
            "40000/40000 [==============================] - 4s 88us/step - loss: 1.2868 - accuracy: 0.5354 - val_loss: 1.4233 - val_accuracy: 0.5007\n",
            "Epoch 48/100\n",
            "40000/40000 [==============================] - 4s 89us/step - loss: 1.2758 - accuracy: 0.5401 - val_loss: 1.4300 - val_accuracy: 0.5006\n",
            "Epoch 49/100\n",
            "40000/40000 [==============================] - 3s 87us/step - loss: 1.2777 - accuracy: 0.5397 - val_loss: 1.4090 - val_accuracy: 0.5045\n",
            "Epoch 50/100\n",
            "40000/40000 [==============================] - 3s 87us/step - loss: 1.2823 - accuracy: 0.5394 - val_loss: 1.4174 - val_accuracy: 0.5013\n",
            "Epoch 51/100\n",
            "40000/40000 [==============================] - 4s 88us/step - loss: 1.2752 - accuracy: 0.5421 - val_loss: 1.4297 - val_accuracy: 0.4965\n",
            "Epoch 52/100\n",
            "40000/40000 [==============================] - 3s 87us/step - loss: 1.2791 - accuracy: 0.5386 - val_loss: 1.4260 - val_accuracy: 0.5014\n",
            "Epoch 53/100\n",
            "40000/40000 [==============================] - 3s 86us/step - loss: 1.2770 - accuracy: 0.5397 - val_loss: 1.4187 - val_accuracy: 0.4992\n",
            "Epoch 54/100\n",
            "40000/40000 [==============================] - 4s 88us/step - loss: 1.2808 - accuracy: 0.5397 - val_loss: 1.4256 - val_accuracy: 0.4956\n",
            "Epoch 55/100\n",
            "40000/40000 [==============================] - 4s 89us/step - loss: 1.2818 - accuracy: 0.5385 - val_loss: 1.4193 - val_accuracy: 0.5006\n",
            "Epoch 56/100\n",
            "40000/40000 [==============================] - 4s 90us/step - loss: 1.2727 - accuracy: 0.5424 - val_loss: 1.4064 - val_accuracy: 0.5071\n",
            "Epoch 57/100\n",
            "40000/40000 [==============================] - 4s 88us/step - loss: 1.2686 - accuracy: 0.5429 - val_loss: 1.4153 - val_accuracy: 0.5016\n",
            "Epoch 58/100\n",
            "40000/40000 [==============================] - 3s 87us/step - loss: 1.2674 - accuracy: 0.5394 - val_loss: 1.4178 - val_accuracy: 0.5025\n",
            "Epoch 59/100\n",
            "40000/40000 [==============================] - 3s 87us/step - loss: 1.2632 - accuracy: 0.5444 - val_loss: 1.4202 - val_accuracy: 0.4955\n",
            "Epoch 60/100\n",
            "40000/40000 [==============================] - 3s 87us/step - loss: 1.2675 - accuracy: 0.5447 - val_loss: 1.4276 - val_accuracy: 0.4981\n",
            "Epoch 61/100\n",
            "40000/40000 [==============================] - 3s 87us/step - loss: 1.2695 - accuracy: 0.5456 - val_loss: 1.4147 - val_accuracy: 0.5042\n",
            "Epoch 62/100\n",
            "40000/40000 [==============================] - 3s 87us/step - loss: 1.2643 - accuracy: 0.5451 - val_loss: 1.4210 - val_accuracy: 0.4962\n",
            "Epoch 63/100\n",
            "40000/40000 [==============================] - 4s 89us/step - loss: 1.2670 - accuracy: 0.5422 - val_loss: 1.4128 - val_accuracy: 0.5034\n",
            "Epoch 64/100\n",
            "40000/40000 [==============================] - 4s 88us/step - loss: 1.2644 - accuracy: 0.5435 - val_loss: 1.4248 - val_accuracy: 0.4973\n",
            "Epoch 65/100\n",
            "40000/40000 [==============================] - 4s 88us/step - loss: 1.2636 - accuracy: 0.5463 - val_loss: 1.4203 - val_accuracy: 0.4997\n",
            "Epoch 66/100\n",
            "40000/40000 [==============================] - 4s 88us/step - loss: 1.2705 - accuracy: 0.5425 - val_loss: 1.4271 - val_accuracy: 0.4967\n",
            "Epoch 67/100\n",
            "40000/40000 [==============================] - 3s 87us/step - loss: 1.2639 - accuracy: 0.5442 - val_loss: 1.4396 - val_accuracy: 0.4949\n",
            "Epoch 68/100\n",
            "40000/40000 [==============================] - 3s 87us/step - loss: 1.2615 - accuracy: 0.5458 - val_loss: 1.4276 - val_accuracy: 0.4944\n",
            "Epoch 69/100\n",
            "40000/40000 [==============================] - 4s 88us/step - loss: 1.2576 - accuracy: 0.5500 - val_loss: 1.4184 - val_accuracy: 0.4954\n",
            "Epoch 70/100\n",
            "40000/40000 [==============================] - 3s 87us/step - loss: 1.2579 - accuracy: 0.5462 - val_loss: 1.4331 - val_accuracy: 0.4939\n",
            "Epoch 71/100\n",
            "40000/40000 [==============================] - 3s 87us/step - loss: 1.2634 - accuracy: 0.5441 - val_loss: 1.4257 - val_accuracy: 0.5005\n",
            "Epoch 72/100\n",
            "40000/40000 [==============================] - 4s 88us/step - loss: 1.2579 - accuracy: 0.5462 - val_loss: 1.4406 - val_accuracy: 0.4906\n",
            "Epoch 73/100\n",
            "40000/40000 [==============================] - 4s 88us/step - loss: 1.2634 - accuracy: 0.5472 - val_loss: 1.4136 - val_accuracy: 0.5043\n",
            "Epoch 74/100\n",
            "40000/40000 [==============================] - 3s 87us/step - loss: 1.2546 - accuracy: 0.5478 - val_loss: 1.4173 - val_accuracy: 0.5039\n",
            "Epoch 75/100\n",
            "40000/40000 [==============================] - 4s 88us/step - loss: 1.2526 - accuracy: 0.5466 - val_loss: 1.4087 - val_accuracy: 0.5036\n",
            "Epoch 76/100\n",
            "40000/40000 [==============================] - 4s 102us/step - loss: 1.2514 - accuracy: 0.5490 - val_loss: 1.4273 - val_accuracy: 0.5000\n",
            "Epoch 77/100\n",
            "40000/40000 [==============================] - 4s 111us/step - loss: 1.2570 - accuracy: 0.5473 - val_loss: 1.4257 - val_accuracy: 0.4994\n",
            "Epoch 78/100\n",
            "40000/40000 [==============================] - 3s 87us/step - loss: 1.2523 - accuracy: 0.5490 - val_loss: 1.4134 - val_accuracy: 0.5066\n",
            "Epoch 79/100\n",
            "40000/40000 [==============================] - 4s 88us/step - loss: 1.2509 - accuracy: 0.5497 - val_loss: 1.4303 - val_accuracy: 0.5008\n",
            "Epoch 80/100\n",
            "40000/40000 [==============================] - 4s 89us/step - loss: 1.2665 - accuracy: 0.5445 - val_loss: 1.4154 - val_accuracy: 0.5056\n",
            "Epoch 81/100\n",
            "40000/40000 [==============================] - 4s 90us/step - loss: 1.2572 - accuracy: 0.5460 - val_loss: 1.4203 - val_accuracy: 0.5046\n",
            "Epoch 82/100\n",
            "40000/40000 [==============================] - 4s 90us/step - loss: 1.2552 - accuracy: 0.5469 - val_loss: 1.4207 - val_accuracy: 0.5043\n",
            "Epoch 83/100\n",
            "40000/40000 [==============================] - 4s 89us/step - loss: 1.2481 - accuracy: 0.5494 - val_loss: 1.4292 - val_accuracy: 0.4982\n",
            "Epoch 84/100\n",
            "40000/40000 [==============================] - 4s 88us/step - loss: 1.2490 - accuracy: 0.5513 - val_loss: 1.4132 - val_accuracy: 0.5092\n",
            "Epoch 85/100\n",
            "40000/40000 [==============================] - 3s 87us/step - loss: 1.2496 - accuracy: 0.5488 - val_loss: 1.4183 - val_accuracy: 0.5022\n",
            "Epoch 86/100\n",
            "40000/40000 [==============================] - 3s 87us/step - loss: 1.2486 - accuracy: 0.5510 - val_loss: 1.4176 - val_accuracy: 0.5042\n",
            "Epoch 87/100\n",
            "40000/40000 [==============================] - 4s 88us/step - loss: 1.2550 - accuracy: 0.5473 - val_loss: 1.4246 - val_accuracy: 0.5029\n",
            "Epoch 88/100\n",
            "40000/40000 [==============================] - 3s 87us/step - loss: 1.2498 - accuracy: 0.5496 - val_loss: 1.4155 - val_accuracy: 0.5015\n",
            "Epoch 89/100\n",
            "40000/40000 [==============================] - 4s 89us/step - loss: 1.2437 - accuracy: 0.5523 - val_loss: 1.4100 - val_accuracy: 0.5039\n",
            "Epoch 90/100\n",
            "40000/40000 [==============================] - 3s 87us/step - loss: 1.2436 - accuracy: 0.5513 - val_loss: 1.4216 - val_accuracy: 0.5019\n",
            "Epoch 91/100\n",
            "40000/40000 [==============================] - 4s 88us/step - loss: 1.2499 - accuracy: 0.5491 - val_loss: 1.4317 - val_accuracy: 0.4957\n",
            "Epoch 92/100\n",
            "40000/40000 [==============================] - 4s 88us/step - loss: 1.2446 - accuracy: 0.5507 - val_loss: 1.4207 - val_accuracy: 0.5053\n",
            "Epoch 93/100\n",
            "40000/40000 [==============================] - 4s 88us/step - loss: 1.2424 - accuracy: 0.5567 - val_loss: 1.4164 - val_accuracy: 0.5013\n",
            "Epoch 94/100\n",
            "40000/40000 [==============================] - 3s 87us/step - loss: 1.2427 - accuracy: 0.5505 - val_loss: 1.4169 - val_accuracy: 0.5012\n",
            "Epoch 95/100\n",
            "40000/40000 [==============================] - 4s 88us/step - loss: 1.2515 - accuracy: 0.5507 - val_loss: 1.4322 - val_accuracy: 0.5010\n",
            "Epoch 96/100\n",
            "40000/40000 [==============================] - 4s 88us/step - loss: 1.2423 - accuracy: 0.5515 - val_loss: 1.4099 - val_accuracy: 0.5088\n",
            "Epoch 97/100\n",
            "40000/40000 [==============================] - 3s 87us/step - loss: 1.2410 - accuracy: 0.5511 - val_loss: 1.4037 - val_accuracy: 0.5075\n",
            "Epoch 98/100\n",
            "40000/40000 [==============================] - 4s 88us/step - loss: 1.2391 - accuracy: 0.5543 - val_loss: 1.4200 - val_accuracy: 0.5035\n",
            "Epoch 99/100\n",
            "40000/40000 [==============================] - 3s 87us/step - loss: 1.2430 - accuracy: 0.5505 - val_loss: 1.4106 - val_accuracy: 0.5038\n",
            "Epoch 100/100\n",
            "40000/40000 [==============================] - 3s 87us/step - loss: 1.2423 - accuracy: 0.5522 - val_loss: 1.4122 - val_accuracy: 0.5077\n"
          ],
          "name": "stdout"
        },
        {
          "output_type": "execute_result",
          "data": {
            "text/plain": [
              "<keras.callbacks.callbacks.History at 0x7f1f8c93d8d0>"
            ]
          },
          "metadata": {
            "tags": []
          },
          "execution_count": 89
        }
      ]
    },
    {
      "cell_type": "markdown",
      "metadata": {
        "id": "56oNloaveAwL",
        "colab_type": "text"
      },
      "source": [
        "### Step 6: Making Predictions!"
      ]
    },
    {
      "cell_type": "code",
      "metadata": {
        "id": "V49jNY1teLas",
        "colab_type": "code",
        "colab": {
          "base_uri": "https://localhost:8080/",
          "height": 34
        },
        "outputId": "d3570b7c-14fe-4748-c031-b54f34621f5d"
      },
      "source": [
        "# 1. Let's take some image as an example for our prediction\n",
        "\n",
        "X_validation.shape # 10000 (images), 3072 (pixels! our 32 x 32 x 3)\n",
        "\n",
        "X_validation[0] # takes the first image! Shape: (3072,) 3072 pixels"
      ],
      "execution_count": 92,
      "outputs": [
        {
          "output_type": "execute_result",
          "data": {
            "text/plain": [
              "(10000, 3072)"
            ]
          },
          "metadata": {
            "tags": []
          },
          "execution_count": 92
        }
      ]
    },
    {
      "cell_type": "code",
      "metadata": {
        "id": "U6ub-6qYe8Ko",
        "colab_type": "code",
        "colab": {
          "base_uri": "https://localhost:8080/",
          "height": 34
        },
        "outputId": "63856ed8-bfd3-4233-de6d-bd9f718e333a"
      },
      "source": [
        "# We need to expand the dimensions for fitting the predict function\n",
        "test_image = np.expand_dims(X_validation[0], axis=0) # Add the second dimension at the beginning\n",
        "test_image.shape"
      ],
      "execution_count": 94,
      "outputs": [
        {
          "output_type": "execute_result",
          "data": {
            "text/plain": [
              "(1, 3072)"
            ]
          },
          "metadata": {
            "tags": []
          },
          "execution_count": 94
        }
      ]
    },
    {
      "cell_type": "code",
      "metadata": {
        "id": "fl5zQBS7fM2v",
        "colab_type": "code",
        "colab": {
          "base_uri": "https://localhost:8080/",
          "height": 68
        },
        "outputId": "9486bc96-1bfd-40c0-8457-70453424c3fc"
      },
      "source": [
        "# The .predict function will return an array with probabilities for each category\n",
        "\n",
        "model_2.predict(test_image) # The total must be 1 or 100%\n"
      ],
      "execution_count": 96,
      "outputs": [
        {
          "output_type": "execute_result",
          "data": {
            "text/plain": [
              "array([[0.0180363 , 0.0032155 , 0.04953308, 0.12800889, 0.34632474,\n",
              "        0.05946006, 0.3318265 , 0.06268223, 0.00035633, 0.00055636]],\n",
              "      dtype=float32)"
            ]
          },
          "metadata": {
            "tags": []
          },
          "execution_count": 96
        }
      ]
    },
    {
      "cell_type": "code",
      "metadata": {
        "id": "Wf3WDO7hlc4h",
        "colab_type": "code",
        "colab": {
          "base_uri": "https://localhost:8080/",
          "height": 34
        },
        "outputId": "4464849e-61a3-446e-ab15-1bd3a985f839"
      },
      "source": [
        "# Predicting all the array\n",
        "\n",
        "model_2.predict(X_validation).shape # Shape: 10000 images / 10 classifications"
      ],
      "execution_count": 98,
      "outputs": [
        {
          "output_type": "execute_result",
          "data": {
            "text/plain": [
              "(10000, 10)"
            ]
          },
          "metadata": {
            "tags": []
          },
          "execution_count": 98
        }
      ]
    },
    {
      "cell_type": "code",
      "metadata": {
        "id": "9CjaeMK4mcsH",
        "colab_type": "code",
        "colab": {
          "base_uri": "https://localhost:8080/",
          "height": 34
        },
        "outputId": "4687ade3-cd86-4cca-b5b7-e7cd9dd6fe7f"
      },
      "source": [
        "# Keras also have a predictor for classes! So it will return which classification is\n",
        "model_2.predict_classes(test_image)"
      ],
      "execution_count": 99,
      "outputs": [
        {
          "output_type": "execute_result",
          "data": {
            "text/plain": [
              "array([4])"
            ]
          },
          "metadata": {
            "tags": []
          },
          "execution_count": 99
        }
      ]
    },
    {
      "cell_type": "code",
      "metadata": {
        "id": "CzqWT75sl1FS",
        "colab_type": "code",
        "colab": {
          "base_uri": "https://localhost:8080/",
          "height": 34
        },
        "outputId": "093d2bf8-2a5d-43cf-c52f-a1185992c646"
      },
      "source": [
        "# Validating the prediction with our labels y_validation\n",
        "\n",
        "y_validation[0]"
      ],
      "execution_count": 100,
      "outputs": [
        {
          "output_type": "execute_result",
          "data": {
            "text/plain": [
              "array([6], dtype=uint8)"
            ]
          },
          "metadata": {
            "tags": []
          },
          "execution_count": 100
        }
      ]
    },
    {
      "cell_type": "code",
      "metadata": {
        "id": "HLomXH0hnE42",
        "colab_type": "code",
        "colab": {
          "base_uri": "https://localhost:8080/",
          "height": 187
        },
        "outputId": "6833deb4-bbd4-4d37-eae3-4998a1ca182b"
      },
      "source": [
        "# Let's printing the first 10 images in the X_validation\n",
        "\n",
        "for img in range(10):\n",
        "\n",
        "  # Expand the dimensions to fit our predictor\n",
        "  test_img = np.expand_dims(X_validation[img], axis=0)\n",
        "\n",
        "  # Predicting classes and saving to an image\n",
        "  predicted_img = model_2.predict_classes(test_img)[0]\n",
        "\n",
        "  print(f'Actual value:{y_validation[img][0]} vs Predicted value:{predicted_img}')\n"
      ],
      "execution_count": 101,
      "outputs": [
        {
          "output_type": "stream",
          "text": [
            "Actual value:6 vs Predicted value:4\n",
            "Actual value:9 vs Predicted value:1\n",
            "Actual value:9 vs Predicted value:9\n",
            "Actual value:4 vs Predicted value:4\n",
            "Actual value:1 vs Predicted value:8\n",
            "Actual value:1 vs Predicted value:7\n",
            "Actual value:2 vs Predicted value:2\n",
            "Actual value:7 vs Predicted value:7\n",
            "Actual value:8 vs Predicted value:8\n",
            "Actual value:3 vs Predicted value:2\n"
          ],
          "name": "stdout"
        }
      ]
    },
    {
      "cell_type": "markdown",
      "metadata": {
        "id": "LxaqzWpyrJ1P",
        "colab_type": "text"
      },
      "source": [
        "### Step 7. Model Evaluation\n",
        "\n",
        "Let's use Recall + Precision + + FScore + Accuracy + Confusion Matrix to evaluate our Neural Network"
      ]
    },
    {
      "cell_type": "code",
      "metadata": {
        "id": "qnegdWKZq5aG",
        "colab_type": "code",
        "colab": {
          "base_uri": "https://localhost:8080/",
          "height": 51
        },
        "outputId": "2f7bebf0-a788-4153-827c-8d7baee1bdd3"
      },
      "source": [
        "# Model Evaluation\n",
        "\n",
        "# Recall Score = True Positives / (True Positives + False Negatives)\n",
        "# Precision = True Positives / (True Positives + False Positives)\n",
        "# F1 Score = 2 x (precision x recall) / (precision + recall)\n",
        "\n",
        "test_loss, test_accuracy = model_2.evaluate(x=X_test_all, y=y_test_all)\n",
        "\n",
        "print(f'Test loss: {test_loss:0.5}, Test Accuracy: {test_accuracy :0.1%}') # Loss: 1.4069 / Accuracy: 50.3%"
      ],
      "execution_count": 109,
      "outputs": [
        {
          "output_type": "stream",
          "text": [
            "10000/10000 [==============================] - 1s 53us/step\n",
            "Test loss: 1.407, Test Accuracy: 50.3%\n"
          ],
          "name": "stdout"
        }
      ]
    },
    {
      "cell_type": "code",
      "metadata": {
        "id": "5oa5YOagoOCK",
        "colab_type": "code",
        "colab": {}
      },
      "source": [
        "# Confusion Matrix\n",
        "\n",
        "from sklearn.metrics import confusion_matrix\n",
        "\n",
        "predictions = model_2.predict_classes(X_test_all)\n",
        "\n",
        "conf_matrix = confusion_matrix(y_true= y_test_all, y_pred= predictions)\n",
        "\n",
        "conf_matrix.shape # 10 x 10 matrix \n",
        "\n",
        "nr_rows = conf_matrix.shape[0]\n",
        "nr_columns = conf_matrix.shape[1]"
      ],
      "execution_count": 112,
      "outputs": []
    },
    {
      "cell_type": "code",
      "metadata": {
        "id": "EnC5FlpvuCMZ",
        "colab_type": "code",
        "colab": {
          "base_uri": "https://localhost:8080/",
          "height": 1000
        },
        "outputId": "50c13741-af0e-41bc-e8b7-4ab6c7bb1d28"
      },
      "source": [
        "plt.figure(figsize=(7, 7), dpi= 227)\n",
        "\n",
        "plt.title('Confusion Matrix', fontsize=14)\n",
        "plt.xlabel('Predicted Labels', fontsize=12)\n",
        "plt.ylabel('Actual Labels', fontsize=12)\n",
        "\n",
        "# Adjusting the tick marks\n",
        "tick_marks = np.arange(10) # 10 = number of classes \n",
        "\n",
        "plt.xticks(tick_marks, LABEL_NAMES)\n",
        "plt.yticks(tick_marks, LABEL_NAMES)\n",
        "\n",
        "plt.imshow(conf_matrix, cmap=plt.cm.Greens)\n",
        "\n",
        "plt.colorbar()\n",
        "\n",
        "for i, j in itertools.product(range(nr_rows), range(nr_columns)):\n",
        "\n",
        "  plt.text(j , i, conf_matrix[i , j], # Remember [rows , columns] you can access the cell\n",
        "           horizontalalignment='center', # Align all items to the center\n",
        "           color='white' if conf_matrix[i , j] > 450 else 'black') # Conditional formatting\n",
        "\n",
        "plt.show()"
      ],
      "execution_count": 128,
      "outputs": [
        {
          "output_type": "display_data",
          "data": {
            "image/png": "[encoded data removed]",
            "text/plain": [
              "<Figure size 1589x1589 with 2 Axes>"
            ]
          },
          "metadata": {
            "tags": [],
            "needs_background": "light"
          }
        }
      ]
    },
    {
      "cell_type": "code",
      "metadata": {
        "id": "iUP1BofIueLg",
        "colab_type": "code",
        "colab": {
          "base_uri": "https://localhost:8080/",
          "height": 68
        },
        "outputId": "5b3127fd-79f4-43bd-b774-5dc2b607f91a"
      },
      "source": [
        "# Collecting the diagonal (True positives)\n",
        "np.diag(conf_matrix)\n",
        "\n",
        "recall = np.diag(conf_matrix) / np.sum(conf_matrix, axis= 1)\n",
        "print('Recall for each category:', recall)\n",
        "\n",
        "precision = np.diag(conf_matrix) / np.sum(conf_matrix, axis= 0)\n",
        "print('Precision for each category:', precision)"
      ],
      "execution_count": 132,
      "outputs": [
        {
          "output_type": "stream",
          "text": [
            "Recall for each category: [0.588 0.619 0.265 0.321 0.461 0.318 0.699 0.559 0.683 0.517]\n",
            "Precision for each category: [0.56702025 0.63357216 0.39670659 0.34479055 0.41382406 0.47181009\n",
            " 0.44951768 0.56866734 0.57783418 0.58816837]\n"
          ],
          "name": "stdout"
        }
      ]
    },
    {
      "cell_type": "code",
      "metadata": {
        "id": "6-kvm3xtyc1O",
        "colab_type": "code",
        "colab": {
          "base_uri": "https://localhost:8080/",
          "height": 51
        },
        "outputId": "41445fe3-c10a-46f5-f61b-626e2bee7f8e"
      },
      "source": [
        "avg_recall = np.mean(recall)\n",
        "print('Average recall - All categories (full model):', avg_recall)\n",
        "avg_precision = np.mean(precision)\n",
        "print('Average precision - All categories (full model):', avg_precision)"
      ],
      "execution_count": 134,
      "outputs": [
        {
          "output_type": "stream",
          "text": [
            "Average recall - All categories (full model): 0.503\n",
            "Average precision - All categories (full model): 0.5011911273749976\n"
          ],
          "name": "stdout"
        }
      ]
    },
    {
      "cell_type": "code",
      "metadata": {
        "id": "1XsnEgAEzW9R",
        "colab_type": "code",
        "colab": {
          "base_uri": "https://localhost:8080/",
          "height": 34
        },
        "outputId": "54a4fc27-c336-464d-e956-46666eba9816"
      },
      "source": [
        "f1_score = 2 * (avg_precision * avg_recall) / (avg_precision + avg_recall)\n",
        "print('F-Score:', f1_score)"
      ],
      "execution_count": 136,
      "outputs": [
        {
          "output_type": "stream",
          "text": [
            "F-Score: 0.5020939345055212\n"
          ],
          "name": "stdout"
        }
      ]
    },
    {
      "cell_type": "code",
      "metadata": {
        "id": "TgQTvCOYzlPH",
        "colab_type": "code",
        "colab": {}
      },
      "source": [
        ""
      ],
      "execution_count": null,
      "outputs": []
    }
  ]
}